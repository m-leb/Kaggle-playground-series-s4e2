{
 "cells": [
  {
   "cell_type": "code",
   "execution_count": 1,
   "id": "74aa33bc-0667-4d94-98c2-18de0326c533",
   "metadata": {
    "tags": []
   },
   "outputs": [],
   "source": [
    "import pandas as pd\n",
    "import numpy as np\n",
    "from sklearn.model_selection import train_test_split\n",
    "from catboost import CatBoostClassifier\n",
    "from tqdm import tqdm\n",
    "\n",
    "from utility import make_BMI"
   ]
  },
  {
   "cell_type": "code",
   "execution_count": 2,
   "id": "d6979500-ebc8-4c42-a59a-99d738f1ea4e",
   "metadata": {},
   "outputs": [
    {
     "data": {
      "text/html": [
       "<div>\n",
       "<style scoped>\n",
       "    .dataframe tbody tr th:only-of-type {\n",
       "        vertical-align: middle;\n",
       "    }\n",
       "\n",
       "    .dataframe tbody tr th {\n",
       "        vertical-align: top;\n",
       "    }\n",
       "\n",
       "    .dataframe thead th {\n",
       "        text-align: right;\n",
       "    }\n",
       "</style>\n",
       "<table border=\"1\" class=\"dataframe\">\n",
       "  <thead>\n",
       "    <tr style=\"text-align: right;\">\n",
       "      <th></th>\n",
       "      <th>Gender</th>\n",
       "      <th>Age</th>\n",
       "      <th>Height</th>\n",
       "      <th>Weight</th>\n",
       "      <th>family_history_with_overweight</th>\n",
       "      <th>FAVC</th>\n",
       "      <th>FCVC</th>\n",
       "      <th>NCP</th>\n",
       "      <th>CAEC</th>\n",
       "      <th>SMOKE</th>\n",
       "      <th>CH2O</th>\n",
       "      <th>SCC</th>\n",
       "      <th>FAF</th>\n",
       "      <th>TUE</th>\n",
       "      <th>CALC</th>\n",
       "      <th>MTRANS</th>\n",
       "      <th>NObeyesdad</th>\n",
       "    </tr>\n",
       "    <tr>\n",
       "      <th>id</th>\n",
       "      <th></th>\n",
       "      <th></th>\n",
       "      <th></th>\n",
       "      <th></th>\n",
       "      <th></th>\n",
       "      <th></th>\n",
       "      <th></th>\n",
       "      <th></th>\n",
       "      <th></th>\n",
       "      <th></th>\n",
       "      <th></th>\n",
       "      <th></th>\n",
       "      <th></th>\n",
       "      <th></th>\n",
       "      <th></th>\n",
       "      <th></th>\n",
       "      <th></th>\n",
       "    </tr>\n",
       "  </thead>\n",
       "  <tbody>\n",
       "    <tr>\n",
       "      <th>0</th>\n",
       "      <td>Male</td>\n",
       "      <td>24.443011</td>\n",
       "      <td>1.699998</td>\n",
       "      <td>81.669950</td>\n",
       "      <td>yes</td>\n",
       "      <td>yes</td>\n",
       "      <td>2.000000</td>\n",
       "      <td>2.983297</td>\n",
       "      <td>Sometimes</td>\n",
       "      <td>no</td>\n",
       "      <td>2.763573</td>\n",
       "      <td>no</td>\n",
       "      <td>0.000000</td>\n",
       "      <td>0.976473</td>\n",
       "      <td>Sometimes</td>\n",
       "      <td>Public_Transportation</td>\n",
       "      <td>Overweight_Level_II</td>\n",
       "    </tr>\n",
       "    <tr>\n",
       "      <th>1</th>\n",
       "      <td>Female</td>\n",
       "      <td>18.000000</td>\n",
       "      <td>1.560000</td>\n",
       "      <td>57.000000</td>\n",
       "      <td>yes</td>\n",
       "      <td>yes</td>\n",
       "      <td>2.000000</td>\n",
       "      <td>3.000000</td>\n",
       "      <td>Frequently</td>\n",
       "      <td>no</td>\n",
       "      <td>2.000000</td>\n",
       "      <td>no</td>\n",
       "      <td>1.000000</td>\n",
       "      <td>1.000000</td>\n",
       "      <td>no</td>\n",
       "      <td>Automobile</td>\n",
       "      <td>Normal_Weight</td>\n",
       "    </tr>\n",
       "    <tr>\n",
       "      <th>2</th>\n",
       "      <td>Female</td>\n",
       "      <td>18.000000</td>\n",
       "      <td>1.711460</td>\n",
       "      <td>50.165754</td>\n",
       "      <td>yes</td>\n",
       "      <td>yes</td>\n",
       "      <td>1.880534</td>\n",
       "      <td>1.411685</td>\n",
       "      <td>Sometimes</td>\n",
       "      <td>no</td>\n",
       "      <td>1.910378</td>\n",
       "      <td>no</td>\n",
       "      <td>0.866045</td>\n",
       "      <td>1.673584</td>\n",
       "      <td>no</td>\n",
       "      <td>Public_Transportation</td>\n",
       "      <td>Insufficient_Weight</td>\n",
       "    </tr>\n",
       "    <tr>\n",
       "      <th>3</th>\n",
       "      <td>Female</td>\n",
       "      <td>20.952737</td>\n",
       "      <td>1.710730</td>\n",
       "      <td>131.274851</td>\n",
       "      <td>yes</td>\n",
       "      <td>yes</td>\n",
       "      <td>3.000000</td>\n",
       "      <td>3.000000</td>\n",
       "      <td>Sometimes</td>\n",
       "      <td>no</td>\n",
       "      <td>1.674061</td>\n",
       "      <td>no</td>\n",
       "      <td>1.467863</td>\n",
       "      <td>0.780199</td>\n",
       "      <td>Sometimes</td>\n",
       "      <td>Public_Transportation</td>\n",
       "      <td>Obesity_Type_III</td>\n",
       "    </tr>\n",
       "    <tr>\n",
       "      <th>4</th>\n",
       "      <td>Male</td>\n",
       "      <td>31.641081</td>\n",
       "      <td>1.914186</td>\n",
       "      <td>93.798055</td>\n",
       "      <td>yes</td>\n",
       "      <td>yes</td>\n",
       "      <td>2.679664</td>\n",
       "      <td>1.971472</td>\n",
       "      <td>Sometimes</td>\n",
       "      <td>no</td>\n",
       "      <td>1.979848</td>\n",
       "      <td>no</td>\n",
       "      <td>1.967973</td>\n",
       "      <td>0.931721</td>\n",
       "      <td>Sometimes</td>\n",
       "      <td>Public_Transportation</td>\n",
       "      <td>Overweight_Level_II</td>\n",
       "    </tr>\n",
       "  </tbody>\n",
       "</table>\n",
       "</div>"
      ],
      "text/plain": [
       "    Gender        Age    Height      Weight family_history_with_overweight  \\\n",
       "id                                                                           \n",
       "0     Male  24.443011  1.699998   81.669950                            yes   \n",
       "1   Female  18.000000  1.560000   57.000000                            yes   \n",
       "2   Female  18.000000  1.711460   50.165754                            yes   \n",
       "3   Female  20.952737  1.710730  131.274851                            yes   \n",
       "4     Male  31.641081  1.914186   93.798055                            yes   \n",
       "\n",
       "   FAVC      FCVC       NCP        CAEC SMOKE      CH2O SCC       FAF  \\\n",
       "id                                                                      \n",
       "0   yes  2.000000  2.983297   Sometimes    no  2.763573  no  0.000000   \n",
       "1   yes  2.000000  3.000000  Frequently    no  2.000000  no  1.000000   \n",
       "2   yes  1.880534  1.411685   Sometimes    no  1.910378  no  0.866045   \n",
       "3   yes  3.000000  3.000000   Sometimes    no  1.674061  no  1.467863   \n",
       "4   yes  2.679664  1.971472   Sometimes    no  1.979848  no  1.967973   \n",
       "\n",
       "         TUE       CALC                 MTRANS           NObeyesdad  \n",
       "id                                                                   \n",
       "0   0.976473  Sometimes  Public_Transportation  Overweight_Level_II  \n",
       "1   1.000000         no             Automobile        Normal_Weight  \n",
       "2   1.673584         no  Public_Transportation  Insufficient_Weight  \n",
       "3   0.780199  Sometimes  Public_Transportation     Obesity_Type_III  \n",
       "4   0.931721  Sometimes  Public_Transportation  Overweight_Level_II  "
      ]
     },
     "execution_count": 2,
     "metadata": {},
     "output_type": "execute_result"
    }
   ],
   "source": [
    "data = pd.read_csv('../data/train.csv', index_col='id')\n",
    "\n",
    "data.head()"
   ]
  },
  {
   "cell_type": "code",
   "execution_count": 3,
   "id": "50f6d982-aebd-45f0-a5de-ed093aa785e8",
   "metadata": {
    "tags": []
   },
   "outputs": [],
   "source": [
    "data['BMI'] = make_BMI(data)\n",
    "data = data.drop(['Height', 'Weight'], axis=1)\n",
    "data = pd.get_dummies(data, columns=['Gender', \n",
    "                                     'family_history_with_overweight',\n",
    "                                     'FAVC',\n",
    "                                     'SMOKE',\n",
    "                                     'SCC'], drop_first=True)\n",
    "cat = ['CAEC', 'CALC', 'MTRANS']"
   ]
  },
  {
   "cell_type": "code",
   "execution_count": 4,
   "id": "59587bd9-1d19-457c-a806-5874fe55bac5",
   "metadata": {},
   "outputs": [],
   "source": [
    "X_train, X_valid, y_train, y_valid = train_test_split(data.drop(['NObeyesdad'], axis=1),\n",
    "                                                      data['NObeyesdad'],\n",
    "                                                      test_size=0.20,\n",
    "                                                      random_state=3,\n",
    "                                                      shuffle=True)"
   ]
  },
  {
   "cell_type": "code",
   "execution_count": 5,
   "id": "dbe11c86-85ad-43e3-92fd-4b0afc4d6219",
   "metadata": {},
   "outputs": [
    {
     "data": {
      "text/plain": [
       "['Insufficient_Weight',\n",
       " 'Overweight_Level_I',\n",
       " 'Obesity_Type_I',\n",
       " 'Overweight_Level_II',\n",
       " 'Normal_Weight',\n",
       " 'Obesity_Type_II',\n",
       " 'Obesity_Type_III']"
      ]
     },
     "execution_count": 5,
     "metadata": {},
     "output_type": "execute_result"
    }
   ],
   "source": [
    "target = list(y_train.unique())\n",
    "target"
   ]
  },
  {
   "cell_type": "markdown",
   "id": "1b0837c6-fbc8-4e3e-8b15-c0f08a3aee88",
   "metadata": {},
   "source": [
    "Обучим отдельные модели для каждого класса. После этого будем выбирать тот класс, в котором модель уверена больше."
   ]
  },
  {
   "cell_type": "code",
   "execution_count": 6,
   "id": "315bc5fa-92ca-46d0-beb3-f3a9c974d3eb",
   "metadata": {},
   "outputs": [
    {
     "name": "stderr",
     "output_type": "stream",
     "text": [
      "100%|████████████████████████████████████████████████████████████████████████████████████| 7/7 [03:18<00:00, 28.31s/it]\n"
     ]
    },
    {
     "data": {
      "text/plain": [
       "Overweight_Level_II    0.945087\n",
       "Overweight_Level_I     0.947977\n",
       "Obesity_Type_I         0.957129\n",
       "Normal_Weight          0.962187\n",
       "Obesity_Type_II        0.982418\n",
       "Insufficient_Weight    0.983141\n",
       "Obesity_Type_III       0.999037\n",
       "dtype: float64"
      ]
     },
     "execution_count": 6,
     "metadata": {},
     "output_type": "execute_result"
    }
   ],
   "source": [
    "scores, models = {}, {}\n",
    "\n",
    "for t in tqdm(target):\n",
    "    X_train, X_valid, y_train, y_valid = train_test_split(data.drop(['NObeyesdad'], axis=1),\n",
    "                                                      data['NObeyesdad'],\n",
    "                                                      test_size=0.20,\n",
    "                                                      random_state=3,\n",
    "                                                      shuffle=True)\n",
    "    y_train = y_train.apply(lambda x: x if x == t else 'other')\n",
    "    y_valid = y_valid.apply(lambda x: x if x == t else 'other')\n",
    "    clf = CatBoostClassifier()\n",
    "    clf.fit(X_train, y_train, cat_features=cat, silent=True)\n",
    "    models[t] = clf\n",
    "    scores[t] = clf.score(X_valid, y_valid)\n",
    "    \n",
    "pd.Series(scores).sort_values()"
   ]
  },
  {
   "cell_type": "code",
   "execution_count": 7,
   "id": "0beb8984-5688-4edc-89fc-29dd39d0ba33",
   "metadata": {},
   "outputs": [],
   "source": [
    "X_train, X_valid, y_train, y_valid = train_test_split(data.drop(['NObeyesdad'], axis=1),\n",
    "                                                  data['NObeyesdad'],\n",
    "                                                  test_size=0.20,\n",
    "                                                  random_state=3,\n",
    "                                                  shuffle=True)\n",
    "\n",
    "predictions = pd.DataFrame(columns=target)\n",
    "for t, model in models.items():\n",
    "    predictions[t] = model.predict_proba(X_valid)[:, 0]"
   ]
  },
  {
   "cell_type": "code",
   "execution_count": 8,
   "id": "f7f7e33f-203a-4fd2-b93d-0dadd728794b",
   "metadata": {},
   "outputs": [
    {
     "data": {
      "text/plain": [
       "0.8877649325626205"
      ]
     },
     "execution_count": 8,
     "metadata": {},
     "output_type": "execute_result"
    }
   ],
   "source": [
    "correct, false = 0, 0\n",
    "for i in predictions.index:\n",
    "    if predictions.iloc[i].sort_values(ascending=False).index[0] == y_valid.iloc[i]:\n",
    "        correct +=1\n",
    "    else:\n",
    "        false += 1\n",
    "        \n",
    "correct / (correct + false)"
   ]
  },
  {
   "cell_type": "markdown",
   "id": "aeda48f9-8680-43db-a657-1c73cc1a56e6",
   "metadata": {},
   "source": [
    "0.884 - базовая точность. Использование отдельной модели для каждого класса позволяет повысить точность примерно на 0.004, что не кажется сильно значимым.\n",
    "Можно попробовать обучить отдельную модель, предсказывать на таких предсказаниях и посмотреть результат."
   ]
  },
  {
   "cell_type": "code",
   "execution_count": 9,
   "id": "f9a2f839-576e-4828-87bf-f6f4e5b3d0c8",
   "metadata": {},
   "outputs": [
    {
     "data": {
      "text/plain": [
       "<catboost.core.CatBoostClassifier at 0x292ce517af0>"
      ]
     },
     "execution_count": 9,
     "metadata": {},
     "output_type": "execute_result"
    }
   ],
   "source": [
    "clf = CatBoostClassifier()\n",
    "clf.fit(predictions, y_valid, silent=True)"
   ]
  },
  {
   "cell_type": "code",
   "execution_count": 10,
   "id": "6f7cd62c-e4d2-4dd5-a351-bd88bcbab5db",
   "metadata": {},
   "outputs": [],
   "source": [
    "test = pd.read_csv('../data/test.csv', index_col='id')\n",
    "\n",
    "test['BMI'] = make_BMI(test)\n",
    "test = test.drop(['Height', 'Weight'], axis=1)\n",
    "test = pd.get_dummies(test, columns=['Gender', \n",
    "                                     'family_history_with_overweight',\n",
    "                                     'FAVC',\n",
    "                                     'SMOKE',\n",
    "                                     'SCC'], drop_first=True)\n",
    "\n",
    "\n",
    "predictions = pd.DataFrame(columns=target)\n",
    "for t, model in models.items():\n",
    "    predictions[t] = model.predict_proba(test)[:, 0]\n",
    "    \n",
    "pred = clf.predict(predictions)\n",
    "\n",
    "pd.Series(pred[:, 0], index=test.index).to_csv('../preds/pred1.csv')"
   ]
  },
  {
   "cell_type": "markdown",
   "id": "a3753773-8047-4d64-abee-b5302d8caa36",
   "metadata": {},
   "source": [
    "У предсказания на основе предсказаний качества хуже. Public score: 0.87789"
   ]
  },
  {
   "cell_type": "markdown",
   "id": "f9637a89-ddcd-483a-9b82-7df8a8da2c52",
   "metadata": {},
   "source": [
    "Попробуем сформировать рядом стоящие (учитывая что таргет ранговый) объекты в колонках где была наименьшая точность, чтобы обучить отдельные модели по различению этих друх таргетов."
   ]
  },
  {
   "cell_type": "code",
   "execution_count": 11,
   "id": "5856d147-91c6-4387-b564-b63fda203087",
   "metadata": {},
   "outputs": [
    {
     "data": {
      "text/plain": [
       "0.9236512524084779"
      ]
     },
     "execution_count": 11,
     "metadata": {},
     "output_type": "execute_result"
    }
   ],
   "source": [
    "X_train, X_valid, y_train, y_valid = train_test_split(data.drop(['NObeyesdad'], axis=1),\n",
    "                                                      data['NObeyesdad'],\n",
    "                                                      test_size=0.20,\n",
    "                                                      random_state=3,\n",
    "                                                      shuffle=True)\n",
    "def transform(x):\n",
    "    group_1 = ['Normal_Weight', 'Overweight_Level_I']\n",
    "    group_2 = ['Overweight_Level_II', 'Obesity_Type_I']\n",
    "    if x in group_1: return 'group_1'\n",
    "    if x in group_2: return 'group_2'\n",
    "    return x\n",
    "\n",
    "y_train = y_train.apply(transform)\n",
    "y_valid = y_valid.apply(transform)\n",
    "\n",
    "clf1 = CatBoostClassifier()\n",
    "clf1.fit(X_train, y_train, cat_features=cat, silent=True)\n",
    "clf1.score(X_valid, y_valid)"
   ]
  },
  {
   "cell_type": "code",
   "execution_count": 12,
   "id": "bf185504-f4cc-4531-bcb6-5ce7707e634b",
   "metadata": {},
   "outputs": [],
   "source": [
    "g1 = data[data['NObeyesdad'].isin(['Normal_Weight', 'Overweight_Level_I'])]\n",
    "g2 = data[data['NObeyesdad'].isin(['Overweight_Level_II', 'Obesity_Type_I'])]"
   ]
  },
  {
   "cell_type": "code",
   "execution_count": 13,
   "id": "20eda1fe-5c2e-49cf-b3bd-b73c2ab28fe8",
   "metadata": {},
   "outputs": [
    {
     "data": {
      "text/plain": [
       "0.9219600725952813"
      ]
     },
     "execution_count": 13,
     "metadata": {},
     "output_type": "execute_result"
    }
   ],
   "source": [
    "X_train, X_valid, y_train, y_valid = train_test_split(g1.drop(['NObeyesdad'], axis=1),\n",
    "                                                      g1['NObeyesdad'],\n",
    "                                                      test_size=0.20,\n",
    "                                                      random_state=3,\n",
    "                                                      shuffle=True)\n",
    "\n",
    "clf2_1 = CatBoostClassifier()\n",
    "clf2_1.fit(X_train, y_train, cat_features=cat, silent=True)\n",
    "clf2_1.score(X_valid, y_valid)"
   ]
  },
  {
   "cell_type": "code",
   "execution_count": 14,
   "id": "dc994069-4159-469b-9425-8e729d9ed794",
   "metadata": {},
   "outputs": [
    {
     "data": {
      "text/plain": [
       "0.9116835326586936"
      ]
     },
     "execution_count": 14,
     "metadata": {},
     "output_type": "execute_result"
    }
   ],
   "source": [
    "X_train, X_valid, y_train, y_valid = train_test_split(g2.drop(['NObeyesdad'], axis=1),\n",
    "                                                      g2['NObeyesdad'],\n",
    "                                                      test_size=0.20,\n",
    "                                                      random_state=3,\n",
    "                                                      shuffle=True)\n",
    "\n",
    "clf2_2 = CatBoostClassifier()\n",
    "clf2_2.fit(X_train, y_train, cat_features=cat, silent=True)\n",
    "clf2_2.score(X_valid, y_valid)"
   ]
  },
  {
   "cell_type": "code",
   "execution_count": 15,
   "id": "15fd3aee-b1fe-431c-b430-e5bf2695687c",
   "metadata": {},
   "outputs": [
    {
     "data": {
      "text/plain": [
       "id\n",
       "20758        Obesity_Type_II\n",
       "20759     Overweight_Level_I\n",
       "20760       Obesity_Type_III\n",
       "20761         Obesity_Type_I\n",
       "20762       Obesity_Type_III\n",
       "                ...         \n",
       "34593    Overweight_Level_II\n",
       "34594          Normal_Weight\n",
       "34595    Insufficient_Weight\n",
       "34596          Normal_Weight\n",
       "34597        Obesity_Type_II\n",
       "Name: pred, Length: 13840, dtype: object"
      ]
     },
     "execution_count": 15,
     "metadata": {},
     "output_type": "execute_result"
    }
   ],
   "source": [
    "test = pd.read_csv('../data/test.csv', index_col='id')\n",
    "\n",
    "test['BMI'] = make_BMI(test)\n",
    "test = test.drop(['Height', 'Weight'], axis=1)\n",
    "test = pd.get_dummies(test, columns=['Gender', \n",
    "                                     'family_history_with_overweight',\n",
    "                                     'FAVC',\n",
    "                                     'SMOKE',\n",
    "                                     'SCC'], drop_first=True)\n",
    "\n",
    "\n",
    "test['pred'] = clf1.predict(test)\n",
    "index_group_1 = test[test['pred'] == 'group_1'].index\n",
    "index_group_2 = test[test['pred'] == 'group_2'].index\n",
    "test.loc[index_group_1, 'pred'] = clf2_1.predict(test.loc[index_group_1].drop('pred', axis=1))\n",
    "test.loc[index_group_2, 'pred'] = clf2_2.predict(test.loc[index_group_2].drop('pred', axis=1))\n",
    "\n",
    "pd.Series(test['pred'], index=test.index).to_csv('../preds/pred2.csv')\n",
    "\n",
    "test['pred']"
   ]
  },
  {
   "cell_type": "markdown",
   "id": "46dd994b-3e49-4e44-b55a-79875756d29d",
   "metadata": {},
   "source": [
    "Результат не сильно выше базовой модели Score: 0.88403"
   ]
  }
 ],
 "metadata": {
  "kernelspec": {
   "display_name": "Python 3 (ipykernel)",
   "language": "python",
   "name": "python3"
  },
  "language_info": {
   "codemirror_mode": {
    "name": "ipython",
    "version": 3
   },
   "file_extension": ".py",
   "mimetype": "text/x-python",
   "name": "python",
   "nbconvert_exporter": "python",
   "pygments_lexer": "ipython3",
   "version": "3.10.9"
  }
 },
 "nbformat": 4,
 "nbformat_minor": 5
}
