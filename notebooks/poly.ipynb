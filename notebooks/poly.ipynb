{
 "cells": [
  {
   "cell_type": "code",
   "execution_count": 6,
   "id": "e35d6d77-5726-432c-ab02-1d6f7d04e0ff",
   "metadata": {},
   "outputs": [],
   "source": [
    "import pandas as pd\n",
    "import numpy as np\n",
    "from sklearn.model_selection import train_test_split\n",
    "from sklearn.metrics import accuracy_score\n",
    "from sklearn.preprocessing import PolynomialFeatures\n",
    "from catboost import CatBoostClassifier, Pool\n",
    "from tqdm import tqdm\n",
    "import optuna\n",
    "\n",
    "from utility import make_BMI"
   ]
  },
  {
   "cell_type": "code",
   "execution_count": 7,
   "id": "bd7b0787-0f5b-4572-8f1c-6bcfd3b4f073",
   "metadata": {},
   "outputs": [
    {
     "data": {
      "text/html": [
       "<div>\n",
       "<style scoped>\n",
       "    .dataframe tbody tr th:only-of-type {\n",
       "        vertical-align: middle;\n",
       "    }\n",
       "\n",
       "    .dataframe tbody tr th {\n",
       "        vertical-align: top;\n",
       "    }\n",
       "\n",
       "    .dataframe thead th {\n",
       "        text-align: right;\n",
       "    }\n",
       "</style>\n",
       "<table border=\"1\" class=\"dataframe\">\n",
       "  <thead>\n",
       "    <tr style=\"text-align: right;\">\n",
       "      <th></th>\n",
       "      <th>Gender</th>\n",
       "      <th>Age</th>\n",
       "      <th>Height</th>\n",
       "      <th>Weight</th>\n",
       "      <th>family_history_with_overweight</th>\n",
       "      <th>FAVC</th>\n",
       "      <th>FCVC</th>\n",
       "      <th>NCP</th>\n",
       "      <th>CAEC</th>\n",
       "      <th>SMOKE</th>\n",
       "      <th>CH2O</th>\n",
       "      <th>SCC</th>\n",
       "      <th>FAF</th>\n",
       "      <th>TUE</th>\n",
       "      <th>CALC</th>\n",
       "      <th>MTRANS</th>\n",
       "      <th>NObeyesdad</th>\n",
       "    </tr>\n",
       "  </thead>\n",
       "  <tbody>\n",
       "    <tr>\n",
       "      <th>0</th>\n",
       "      <td>Male</td>\n",
       "      <td>24.443011</td>\n",
       "      <td>1.699998</td>\n",
       "      <td>81.669950</td>\n",
       "      <td>yes</td>\n",
       "      <td>yes</td>\n",
       "      <td>2.000000</td>\n",
       "      <td>2.983297</td>\n",
       "      <td>Sometimes</td>\n",
       "      <td>no</td>\n",
       "      <td>2.763573</td>\n",
       "      <td>no</td>\n",
       "      <td>0.000000</td>\n",
       "      <td>0.976473</td>\n",
       "      <td>Sometimes</td>\n",
       "      <td>Public_Transportation</td>\n",
       "      <td>Overweight_Level_II</td>\n",
       "    </tr>\n",
       "    <tr>\n",
       "      <th>1</th>\n",
       "      <td>Female</td>\n",
       "      <td>18.000000</td>\n",
       "      <td>1.560000</td>\n",
       "      <td>57.000000</td>\n",
       "      <td>yes</td>\n",
       "      <td>yes</td>\n",
       "      <td>2.000000</td>\n",
       "      <td>3.000000</td>\n",
       "      <td>Frequently</td>\n",
       "      <td>no</td>\n",
       "      <td>2.000000</td>\n",
       "      <td>no</td>\n",
       "      <td>1.000000</td>\n",
       "      <td>1.000000</td>\n",
       "      <td>no</td>\n",
       "      <td>Automobile</td>\n",
       "      <td>Normal_Weight</td>\n",
       "    </tr>\n",
       "    <tr>\n",
       "      <th>2</th>\n",
       "      <td>Female</td>\n",
       "      <td>18.000000</td>\n",
       "      <td>1.711460</td>\n",
       "      <td>50.165754</td>\n",
       "      <td>yes</td>\n",
       "      <td>yes</td>\n",
       "      <td>1.880534</td>\n",
       "      <td>1.411685</td>\n",
       "      <td>Sometimes</td>\n",
       "      <td>no</td>\n",
       "      <td>1.910378</td>\n",
       "      <td>no</td>\n",
       "      <td>0.866045</td>\n",
       "      <td>1.673584</td>\n",
       "      <td>no</td>\n",
       "      <td>Public_Transportation</td>\n",
       "      <td>Insufficient_Weight</td>\n",
       "    </tr>\n",
       "    <tr>\n",
       "      <th>3</th>\n",
       "      <td>Female</td>\n",
       "      <td>20.952737</td>\n",
       "      <td>1.710730</td>\n",
       "      <td>131.274851</td>\n",
       "      <td>yes</td>\n",
       "      <td>yes</td>\n",
       "      <td>3.000000</td>\n",
       "      <td>3.000000</td>\n",
       "      <td>Sometimes</td>\n",
       "      <td>no</td>\n",
       "      <td>1.674061</td>\n",
       "      <td>no</td>\n",
       "      <td>1.467863</td>\n",
       "      <td>0.780199</td>\n",
       "      <td>Sometimes</td>\n",
       "      <td>Public_Transportation</td>\n",
       "      <td>Obesity_Type_III</td>\n",
       "    </tr>\n",
       "    <tr>\n",
       "      <th>4</th>\n",
       "      <td>Male</td>\n",
       "      <td>31.641081</td>\n",
       "      <td>1.914186</td>\n",
       "      <td>93.798055</td>\n",
       "      <td>yes</td>\n",
       "      <td>yes</td>\n",
       "      <td>2.679664</td>\n",
       "      <td>1.971472</td>\n",
       "      <td>Sometimes</td>\n",
       "      <td>no</td>\n",
       "      <td>1.979848</td>\n",
       "      <td>no</td>\n",
       "      <td>1.967973</td>\n",
       "      <td>0.931721</td>\n",
       "      <td>Sometimes</td>\n",
       "      <td>Public_Transportation</td>\n",
       "      <td>Overweight_Level_II</td>\n",
       "    </tr>\n",
       "  </tbody>\n",
       "</table>\n",
       "</div>"
      ],
      "text/plain": [
       "   Gender        Age    Height      Weight family_history_with_overweight  \\\n",
       "0    Male  24.443011  1.699998   81.669950                            yes   \n",
       "1  Female  18.000000  1.560000   57.000000                            yes   \n",
       "2  Female  18.000000  1.711460   50.165754                            yes   \n",
       "3  Female  20.952737  1.710730  131.274851                            yes   \n",
       "4    Male  31.641081  1.914186   93.798055                            yes   \n",
       "\n",
       "  FAVC      FCVC       NCP        CAEC SMOKE      CH2O SCC       FAF  \\\n",
       "0  yes  2.000000  2.983297   Sometimes    no  2.763573  no  0.000000   \n",
       "1  yes  2.000000  3.000000  Frequently    no  2.000000  no  1.000000   \n",
       "2  yes  1.880534  1.411685   Sometimes    no  1.910378  no  0.866045   \n",
       "3  yes  3.000000  3.000000   Sometimes    no  1.674061  no  1.467863   \n",
       "4  yes  2.679664  1.971472   Sometimes    no  1.979848  no  1.967973   \n",
       "\n",
       "        TUE       CALC                 MTRANS           NObeyesdad  \n",
       "0  0.976473  Sometimes  Public_Transportation  Overweight_Level_II  \n",
       "1  1.000000         no             Automobile        Normal_Weight  \n",
       "2  1.673584         no  Public_Transportation  Insufficient_Weight  \n",
       "3  0.780199  Sometimes  Public_Transportation     Obesity_Type_III  \n",
       "4  0.931721  Sometimes  Public_Transportation  Overweight_Level_II  "
      ]
     },
     "execution_count": 7,
     "metadata": {},
     "output_type": "execute_result"
    }
   ],
   "source": [
    "data = pd.concat(\n",
    "    [pd.read_csv('../data/train.csv', index_col='id'),\n",
    "     pd.read_csv('../data/ObesityDataSet.csv')]\n",
    ")\n",
    "data.head()"
   ]
  },
  {
   "cell_type": "code",
   "execution_count": 8,
   "id": "d2adde68-f24d-4908-bf9e-f9a51de56ecf",
   "metadata": {},
   "outputs": [],
   "source": [
    "data['BMI'] = make_BMI(data)"
   ]
  },
  {
   "cell_type": "code",
   "execution_count": 9,
   "id": "0fa6ac9e-2810-4cc9-83a8-363dc4d6e6e1",
   "metadata": {},
   "outputs": [],
   "source": [
    "data, target = data.drop('NObeyesdad', axis=1), data['NObeyesdad']\n",
    "\n",
    "numerical = data.dtypes[data.dtypes == 'float64'].index\n",
    "categorical = data.dtypes[data.dtypes == 'object'].index"
   ]
  },
  {
   "cell_type": "code",
   "execution_count": 10,
   "id": "3f411bf9-7e32-435a-beca-24cccf82a0ca",
   "metadata": {},
   "outputs": [
    {
     "data": {
      "application/vnd.jupyter.widget-view+json": {
       "model_id": "93b8e7b4a3ab40738a34775be909b7bd",
       "version_major": 2,
       "version_minor": 0
      },
      "text/plain": [
       "MetricVisualizer(layout=Layout(align_self='stretch', height='500px'))"
      ]
     },
     "metadata": {},
     "output_type": "display_data"
    },
    {
     "data": {
      "text/plain": [
       "<catboost.core.CatBoostClassifier at 0x2af21dd24a0>"
      ]
     },
     "execution_count": 10,
     "metadata": {},
     "output_type": "execute_result"
    }
   ],
   "source": [
    "X_train, X_test, y_train, y_test = train_test_split(data,\n",
    "                                                    target,\n",
    "                                                    test_size=0.20,\n",
    "                                                    random_state=3,\n",
    "                                                    shuffle=True)\n",
    "\n",
    "clf = CatBoostClassifier()\n",
    "clf.fit(X_train, y_train, cat_features=list(categorical), eval_set=(X_test, y_test), silent=True, plot=True)"
   ]
  },
  {
   "cell_type": "markdown",
   "id": "8f907f73-49b2-4100-8733-219ecdb9fa83",
   "metadata": {},
   "source": [
    "![График обучения](https://s49klg.storage.yandex.net/rdisk/0cdf49dc775239bd71ea36fda142c55cba0a81ed7eebe3921d924369f242cd66/65e4d647/LyPBJX7DrmJ2vc9Oq453nZeVLXHTOlTefLLhSbJ6E5pHPcVol2ZdDYSssDdRq9Zpwl93l9M87l3mwtp9IboChQ==?uid=285904750&filename=poly1.png&disposition=inline&hash=&limit=0&content_type=image%2Fpng&owner_uid=285904750&fsize=25761&hid=6eeaa39a00c4952facf53948b5fff04d&media_type=image&tknv=v2&etag=20017e94dce1534d633f2735d4449f2c&rtoken=aG2Vx09uyPNz&force_default=yes&ycrid=na-394d82032f572a0c8b37e7da05a8f033-downloader8e&ts=612c7069cdfc0&s=b5aee07c3d7fed21a207faffe8db753e9d6fdb0df4899ce543d76da84353942e&pb=U2FsdGVkX19CsK5G8ZyThnAAOLxBXaew5fGcrtLIJ8CWMdcTMefjU4Hcw2LHvqOpohDOPq7qPUyAVkCHDftlQeVO--X7zJn8aFiXoRA_6VI)"
   ]
  },
  {
   "cell_type": "code",
   "execution_count": 11,
   "id": "a775eed1-bdb0-498f-bbeb-1d5939ee4f82",
   "metadata": {},
   "outputs": [
    {
     "data": {
      "text/plain": [
       "0.9142982072584172"
      ]
     },
     "execution_count": 11,
     "metadata": {},
     "output_type": "execute_result"
    }
   ],
   "source": [
    "clf.score(X_test, y_test)"
   ]
  },
  {
   "cell_type": "code",
   "execution_count": 12,
   "id": "efe77657-405a-4ae2-b043-26dfee7c3257",
   "metadata": {},
   "outputs": [
    {
     "data": {
      "text/plain": [
       "BMI                               24.787682\n",
       "Weight                            19.694717\n",
       "Gender                             8.503540\n",
       "FCVC                               6.886816\n",
       "Age                                6.793040\n",
       "Height                             4.956285\n",
       "FAF                                4.647806\n",
       "CALC                               4.545625\n",
       "TUE                                3.841696\n",
       "NCP                                3.390900\n",
       "CH2O                               3.215668\n",
       "CAEC                               3.038721\n",
       "MTRANS                             2.900810\n",
       "family_history_with_overweight     1.484375\n",
       "FAVC                               1.005225\n",
       "SCC                                0.287928\n",
       "SMOKE                              0.019165\n",
       "dtype: float64"
      ]
     },
     "execution_count": 12,
     "metadata": {},
     "output_type": "execute_result"
    }
   ],
   "source": [
    "pd.Series(clf.get_feature_importance(), index=data.columns).sort_values(ascending=False)"
   ]
  },
  {
   "cell_type": "code",
   "execution_count": 13,
   "id": "95f88585-44a1-4f5a-a25b-6d163dbee0dd",
   "metadata": {},
   "outputs": [
    {
     "data": {
      "application/vnd.jupyter.widget-view+json": {
       "model_id": "dc0eff81ded94eec9d458e8b0b9bc41e",
       "version_major": 2,
       "version_minor": 0
      },
      "text/plain": [
       "MetricVisualizer(layout=Layout(align_self='stretch', height='500px'))"
      ]
     },
     "metadata": {},
     "output_type": "display_data"
    },
    {
     "data": {
      "text/plain": [
       "<catboost.core.CatBoostClassifier at 0x2af1e0a8250>"
      ]
     },
     "execution_count": 13,
     "metadata": {},
     "output_type": "execute_result"
    }
   ],
   "source": [
    "poly = PolynomialFeatures(degree=3, include_bias=False)\n",
    "data_poly = poly.fit_transform(data[numerical])\n",
    "data_poly = pd.concat([pd.DataFrame(data_poly, columns=poly.get_feature_names_out()),\n",
    "                       data[categorical].reset_index().drop('index', axis=1)], axis=1)\n",
    "\n",
    "X_train, X_test, y_train, y_test = train_test_split(data_poly,\n",
    "                                                    target,\n",
    "                                                    test_size=0.20,\n",
    "                                                    random_state=3,\n",
    "                                                    shuffle=True)\n",
    "\n",
    "clf = CatBoostClassifier()\n",
    "clf.fit(X_train, y_train, cat_features=list(categorical), eval_set=(X_test, y_test), silent=True, plot=True)"
   ]
  },
  {
   "cell_type": "markdown",
   "id": "6d685890-5ca1-4fad-a98c-30fee99a7a60",
   "metadata": {},
   "source": [
    "![График обучения](https://s124vlx.storage.yandex.net/rdisk/1225faf086c9e347fc29a2e5106fe88d2def2dea20844e907271e06fcac1a43c/65e4d66c/LyPBJX7DrmJ2vc9Oq453nXgwsRPcm0Ja0xbA3PtwWw1A9AVDL_0XNT9VdHtrrY5QoKHbx9sID3QqZBshi_tHGw==?uid=285904750&filename=poly2.png&disposition=inline&hash=&limit=0&content_type=image%2Fpng&owner_uid=285904750&fsize=26238&hid=5079cf045b354ba31d60a9ba2139add0&media_type=image&tknv=v2&etag=3f3bf09700183dd9c22f1c9bb17b8b22&rtoken=VnvX5eyjWXKV&force_default=yes&ycrid=na-5a1b768e7423509830a40e3b70949b1a-downloader22h&ts=612c708d17300&s=08fe305af20cc58c8475241c8f3e6ebe2c789d808dc461bae5d5a564422fbf5c&pb=U2FsdGVkX180mjDpIhan4F9VRP4rbUgSIEprZha0Y7ZpRPqrNQIj224bxKhW6YR313tsJpGB_Vhb0eHPtNQ7YQck6BtR5W90Gq-nGAg7kwQ)"
   ]
  },
  {
   "cell_type": "code",
   "execution_count": 14,
   "id": "36d8be9f-0043-4fd4-a6db-85fa0ceff2b2",
   "metadata": {},
   "outputs": [
    {
     "data": {
      "text/plain": [
       "0.9132050721469174"
      ]
     },
     "execution_count": 14,
     "metadata": {},
     "output_type": "execute_result"
    }
   ],
   "source": [
    "clf.score(X_test, y_test)"
   ]
  },
  {
   "cell_type": "code",
   "execution_count": 15,
   "id": "55ff689d-ca3b-4744-93f7-75cf7c4c7afd",
   "metadata": {},
   "outputs": [
    {
     "data": {
      "text/plain": [
       "FCVC^2 BMI                        5.951403\n",
       "BMI                               5.288599\n",
       "BMI^3                             4.470819\n",
       "BMI^2                             3.958332\n",
       "Gender                            3.866886\n",
       "Age Weight^2                      3.804339\n",
       "Weight BMI^2                      3.650678\n",
       "CALC                              2.607524\n",
       "FCVC NCP BMI                      2.211375\n",
       "Height BMI^2                      2.191078\n",
       "CAEC                              1.934735\n",
       "MTRANS                            1.780727\n",
       "Height Weight BMI                 1.518303\n",
       "Height^2 BMI                      1.246001\n",
       "Height^2 Weight                   1.172016\n",
       "Weight^3                          1.139362\n",
       "family_history_with_overweight    1.108562\n",
       "Weight^2                          1.050118\n",
       "Height Weight^2                   1.028610\n",
       "FCVC BMI^2                        0.952382\n",
       "dtype: float64"
      ]
     },
     "execution_count": 15,
     "metadata": {},
     "output_type": "execute_result"
    }
   ],
   "source": [
    "pd.Series(clf.get_feature_importance(), index=data_poly.columns).sort_values(ascending=False).head(20)"
   ]
  },
  {
   "cell_type": "code",
   "execution_count": 16,
   "id": "1296dd61-b792-4055-a9cb-76c6a65b6bd2",
   "metadata": {},
   "outputs": [
    {
     "data": {
      "application/vnd.jupyter.widget-view+json": {
       "model_id": "4c9cebb96e2840a1b47cdd7374e720e6",
       "version_major": 2,
       "version_minor": 0
      },
      "text/plain": [
       "MetricVisualizer(layout=Layout(align_self='stretch', height='500px'))"
      ]
     },
     "metadata": {},
     "output_type": "display_data"
    },
    {
     "data": {
      "text/plain": [
       "<catboost.core.CatBoostClassifier at 0x2af1e9b24d0>"
      ]
     },
     "execution_count": 16,
     "metadata": {},
     "output_type": "execute_result"
    }
   ],
   "source": [
    "new_features = [\n",
    "    'FCVC^2 BMI',\n",
    "    'BMI^3',\n",
    "    'BMI^2',\n",
    "    'Age Weight^2',\n",
    "    'Weight BMI^2',\n",
    "    'FCVC NCP BMI',\n",
    "    'Height BMI^2', \n",
    "]\n",
    "\n",
    "data1 = pd.concat([data.reset_index().drop('index', axis=1), data_poly[new_features]], axis=1)\n",
    "\n",
    "X_train, X_test, y_train, y_test = train_test_split(data1,\n",
    "                                                    target,\n",
    "                                                    test_size=0.20,\n",
    "                                                    random_state=3,\n",
    "                                                    shuffle=True)\n",
    "\n",
    "clf = CatBoostClassifier()\n",
    "clf.fit(X_train, y_train, cat_features=list(categorical), eval_set=(X_test, y_test), silent=True, plot=True)"
   ]
  },
  {
   "cell_type": "markdown",
   "id": "eb9d08c0-9dad-4900-a04a-908ea795f93b",
   "metadata": {},
   "source": [
    "![График обучения](https://s370vlx.storage.yandex.net/rdisk/cc792c9c18909e4b15a8bfe412c5137a0945bac94de422a32da13f5840acebd9/65e4d69b/LyPBJX7DrmJ2vc9Oq453neqWXhwRvypFatyDn7SY09unLLCXEtb8wtOgzABTYJqkKWOCH4ExoiCne6sEPmlQlw==?uid=285904750&filename=poly3.png&disposition=inline&hash=&limit=0&content_type=image%2Fpng&owner_uid=285904750&fsize=26598&hid=1a433e430a2030c0b9fc643f3d12030c&media_type=image&tknv=v2&etag=b9ff9bda0f5a88c2c33df4cd13d92bd0&rtoken=cDFQ76NQ0B95&force_default=yes&ycrid=na-9128f93ba65e8c6105fe2e3692ec8a44-downloader8e&ts=612c70b9e9cc0&s=e2f84040b0f4814edfe912fa13c3cba242c322f74e2b7c749b0427fbba3f928e&pb=U2FsdGVkX18f19G1wubV-_f6rKVzyWJ7LZYQMoGkyqVg2adVk1dDHKz4luUEOwz6HorplskL3JN-EtnZJWTvxpgP3x1IyXoWAuZgdDvLwE8)"
   ]
  },
  {
   "cell_type": "code",
   "execution_count": 17,
   "id": "73563756-0892-4e0d-b96b-c5e5ce3f8d84",
   "metadata": {},
   "outputs": [
    {
     "data": {
      "text/plain": [
       "0.9138609532138172"
      ]
     },
     "execution_count": 17,
     "metadata": {},
     "output_type": "execute_result"
    }
   ],
   "source": [
    "clf.score(X_test, y_test)"
   ]
  },
  {
   "cell_type": "code",
   "execution_count": 18,
   "id": "2792acf5-2fef-445f-accf-30ca9186aa71",
   "metadata": {},
   "outputs": [
    {
     "data": {
      "text/plain": [
       "Height BMI^2                      8.561711\n",
       "FCVC NCP BMI                      7.471396\n",
       "Weight                            7.205958\n",
       "BMI                               6.883801\n",
       "BMI^3                             5.802823\n",
       "FCVC^2 BMI                        5.790555\n",
       "Gender                            5.560532\n",
       "BMI^2                             5.417147\n",
       "Age                               5.302355\n",
       "Age Weight^2                      4.781932\n",
       "Height                            4.516521\n",
       "FAF                               4.348877\n",
       "Weight BMI^2                      4.325519\n",
       "CALC                              4.061414\n",
       "TUE                               3.587946\n",
       "CH2O                              3.408009\n",
       "MTRANS                            2.918503\n",
       "FCVC                              2.832646\n",
       "CAEC                              2.429794\n",
       "NCP                               2.150735\n",
       "family_history_with_overweight    1.402920\n",
       "FAVC                              0.936164\n",
       "SCC                               0.284581\n",
       "SMOKE                             0.018161\n",
       "dtype: float64"
      ]
     },
     "execution_count": 18,
     "metadata": {},
     "output_type": "execute_result"
    }
   ],
   "source": [
    "pd.Series(clf.get_feature_importance(), index=data1.columns).sort_values(ascending=False)"
   ]
  },
  {
   "cell_type": "code",
   "execution_count": 19,
   "id": "5695a964-6130-43d9-83c8-85114269862c",
   "metadata": {},
   "outputs": [
    {
     "data": {
      "text/plain": [
       "Overweight_Level_II    101\n",
       "Overweight_Level_I      86\n",
       "Obesity_Type_I          78\n",
       "Normal_Weight           77\n",
       "Insufficient_Weight     30\n",
       "Obesity_Type_II         18\n",
       "Obesity_Type_III         4\n",
       "Name: true, dtype: int64"
      ]
     },
     "execution_count": 19,
     "metadata": {},
     "output_type": "execute_result"
    }
   ],
   "source": [
    "preds = X_test\n",
    "preds['predict'] = clf.predict(X_test)\n",
    "preds['true'] = y_test.values\n",
    "\n",
    "mistakes = preds[preds['predict'] != preds['true']][['predict', 'true']]\n",
    "\n",
    "mistakes['true'].value_counts()"
   ]
  },
  {
   "cell_type": "code",
   "execution_count": 20,
   "id": "05ca9773-05d1-4af1-9c6e-f34774fe73a7",
   "metadata": {},
   "outputs": [
    {
     "data": {
      "text/plain": [
       "true                 predict            \n",
       "Overweight_Level_II  Overweight_Level_I     51\n",
       "Normal_Weight        Overweight_Level_I     39\n",
       "Overweight_Level_I   Normal_Weight          36\n",
       "                     Overweight_Level_II    34\n",
       "Overweight_Level_II  Obesity_Type_I         33\n",
       "Obesity_Type_I       Overweight_Level_II    33\n",
       "Normal_Weight        Insufficient_Weight    32\n",
       "Obesity_Type_I       Obesity_Type_II        28\n",
       "Insufficient_Weight  Normal_Weight          25\n",
       "Obesity_Type_I       Overweight_Level_I     14\n",
       "Overweight_Level_II  Normal_Weight          13\n",
       "Obesity_Type_II      Obesity_Type_I         12\n",
       "Overweight_Level_I   Obesity_Type_I         11\n",
       "Normal_Weight        Overweight_Level_II     6\n",
       "Overweight_Level_I   Insufficient_Weight     5\n",
       "Obesity_Type_II      Overweight_Level_II     4\n",
       "Overweight_Level_II  Obesity_Type_II         4\n",
       "Insufficient_Weight  Overweight_Level_I      3\n",
       "Obesity_Type_III     Obesity_Type_I          2\n",
       "                     Overweight_Level_I      2\n",
       "Obesity_Type_I       Obesity_Type_III        1\n",
       "Obesity_Type_II      Obesity_Type_III        1\n",
       "                     Overweight_Level_I      1\n",
       "Obesity_Type_I       Normal_Weight           1\n",
       "                     Insufficient_Weight     1\n",
       "Insufficient_Weight  Obesity_Type_II         1\n",
       "                     Obesity_Type_I          1\n",
       "Name: predict, dtype: int64"
      ]
     },
     "execution_count": 20,
     "metadata": {},
     "output_type": "execute_result"
    }
   ],
   "source": [
    "mistakes.groupby('true')['predict'].value_counts().sort_values(ascending=False)"
   ]
  }
 ],
 "metadata": {
  "kernelspec": {
   "display_name": "Python 3 (ipykernel)",
   "language": "python",
   "name": "python3"
  },
  "language_info": {
   "codemirror_mode": {
    "name": "ipython",
    "version": 3
   },
   "file_extension": ".py",
   "mimetype": "text/x-python",
   "name": "python",
   "nbconvert_exporter": "python",
   "pygments_lexer": "ipython3",
   "version": "3.10.9"
  }
 },
 "nbformat": 4,
 "nbformat_minor": 5
}
