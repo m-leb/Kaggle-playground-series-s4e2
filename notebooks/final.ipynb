{
 "cells": [
  {
   "cell_type": "code",
   "execution_count": 1,
   "id": "532f5f10-d562-4e5f-a723-6d71608eb58a",
   "metadata": {},
   "outputs": [],
   "source": [
    "import pandas as pd\n",
    "import numpy as np\n",
    "import matplotlib.pyplot as plt\n",
    "import seaborn as sns\n",
    "from sklearn.model_selection import train_test_split\n",
    "from sklearn.metrics import accuracy_score\n",
    "from catboost import CatBoostClassifier, Pool\n",
    "from tqdm import tqdm\n",
    "import optuna\n",
    "\n",
    "from utility import make_BMI"
   ]
  },
  {
   "cell_type": "code",
   "execution_count": 2,
   "id": "322a7651-9686-40a6-b891-9296911c410c",
   "metadata": {},
   "outputs": [
    {
     "data": {
      "text/html": [
       "<div>\n",
       "<style scoped>\n",
       "    .dataframe tbody tr th:only-of-type {\n",
       "        vertical-align: middle;\n",
       "    }\n",
       "\n",
       "    .dataframe tbody tr th {\n",
       "        vertical-align: top;\n",
       "    }\n",
       "\n",
       "    .dataframe thead th {\n",
       "        text-align: right;\n",
       "    }\n",
       "</style>\n",
       "<table border=\"1\" class=\"dataframe\">\n",
       "  <thead>\n",
       "    <tr style=\"text-align: right;\">\n",
       "      <th></th>\n",
       "      <th>Gender</th>\n",
       "      <th>Age</th>\n",
       "      <th>Height</th>\n",
       "      <th>Weight</th>\n",
       "      <th>family_history_with_overweight</th>\n",
       "      <th>FAVC</th>\n",
       "      <th>FCVC</th>\n",
       "      <th>NCP</th>\n",
       "      <th>CAEC</th>\n",
       "      <th>SMOKE</th>\n",
       "      <th>CH2O</th>\n",
       "      <th>SCC</th>\n",
       "      <th>FAF</th>\n",
       "      <th>TUE</th>\n",
       "      <th>CALC</th>\n",
       "      <th>MTRANS</th>\n",
       "      <th>NObeyesdad</th>\n",
       "    </tr>\n",
       "  </thead>\n",
       "  <tbody>\n",
       "    <tr>\n",
       "      <th>0</th>\n",
       "      <td>Male</td>\n",
       "      <td>24.443011</td>\n",
       "      <td>1.699998</td>\n",
       "      <td>81.669950</td>\n",
       "      <td>yes</td>\n",
       "      <td>yes</td>\n",
       "      <td>2.000000</td>\n",
       "      <td>2.983297</td>\n",
       "      <td>Sometimes</td>\n",
       "      <td>no</td>\n",
       "      <td>2.763573</td>\n",
       "      <td>no</td>\n",
       "      <td>0.000000</td>\n",
       "      <td>0.976473</td>\n",
       "      <td>Sometimes</td>\n",
       "      <td>Public_Transportation</td>\n",
       "      <td>Overweight_Level_II</td>\n",
       "    </tr>\n",
       "    <tr>\n",
       "      <th>1</th>\n",
       "      <td>Female</td>\n",
       "      <td>18.000000</td>\n",
       "      <td>1.560000</td>\n",
       "      <td>57.000000</td>\n",
       "      <td>yes</td>\n",
       "      <td>yes</td>\n",
       "      <td>2.000000</td>\n",
       "      <td>3.000000</td>\n",
       "      <td>Frequently</td>\n",
       "      <td>no</td>\n",
       "      <td>2.000000</td>\n",
       "      <td>no</td>\n",
       "      <td>1.000000</td>\n",
       "      <td>1.000000</td>\n",
       "      <td>no</td>\n",
       "      <td>Automobile</td>\n",
       "      <td>Normal_Weight</td>\n",
       "    </tr>\n",
       "    <tr>\n",
       "      <th>2</th>\n",
       "      <td>Female</td>\n",
       "      <td>18.000000</td>\n",
       "      <td>1.711460</td>\n",
       "      <td>50.165754</td>\n",
       "      <td>yes</td>\n",
       "      <td>yes</td>\n",
       "      <td>1.880534</td>\n",
       "      <td>1.411685</td>\n",
       "      <td>Sometimes</td>\n",
       "      <td>no</td>\n",
       "      <td>1.910378</td>\n",
       "      <td>no</td>\n",
       "      <td>0.866045</td>\n",
       "      <td>1.673584</td>\n",
       "      <td>no</td>\n",
       "      <td>Public_Transportation</td>\n",
       "      <td>Insufficient_Weight</td>\n",
       "    </tr>\n",
       "    <tr>\n",
       "      <th>3</th>\n",
       "      <td>Female</td>\n",
       "      <td>20.952737</td>\n",
       "      <td>1.710730</td>\n",
       "      <td>131.274851</td>\n",
       "      <td>yes</td>\n",
       "      <td>yes</td>\n",
       "      <td>3.000000</td>\n",
       "      <td>3.000000</td>\n",
       "      <td>Sometimes</td>\n",
       "      <td>no</td>\n",
       "      <td>1.674061</td>\n",
       "      <td>no</td>\n",
       "      <td>1.467863</td>\n",
       "      <td>0.780199</td>\n",
       "      <td>Sometimes</td>\n",
       "      <td>Public_Transportation</td>\n",
       "      <td>Obesity_Type_III</td>\n",
       "    </tr>\n",
       "    <tr>\n",
       "      <th>4</th>\n",
       "      <td>Male</td>\n",
       "      <td>31.641081</td>\n",
       "      <td>1.914186</td>\n",
       "      <td>93.798055</td>\n",
       "      <td>yes</td>\n",
       "      <td>yes</td>\n",
       "      <td>2.679664</td>\n",
       "      <td>1.971472</td>\n",
       "      <td>Sometimes</td>\n",
       "      <td>no</td>\n",
       "      <td>1.979848</td>\n",
       "      <td>no</td>\n",
       "      <td>1.967973</td>\n",
       "      <td>0.931721</td>\n",
       "      <td>Sometimes</td>\n",
       "      <td>Public_Transportation</td>\n",
       "      <td>Overweight_Level_II</td>\n",
       "    </tr>\n",
       "  </tbody>\n",
       "</table>\n",
       "</div>"
      ],
      "text/plain": [
       "   Gender        Age    Height      Weight family_history_with_overweight  \\\n",
       "0    Male  24.443011  1.699998   81.669950                            yes   \n",
       "1  Female  18.000000  1.560000   57.000000                            yes   \n",
       "2  Female  18.000000  1.711460   50.165754                            yes   \n",
       "3  Female  20.952737  1.710730  131.274851                            yes   \n",
       "4    Male  31.641081  1.914186   93.798055                            yes   \n",
       "\n",
       "  FAVC      FCVC       NCP        CAEC SMOKE      CH2O SCC       FAF  \\\n",
       "0  yes  2.000000  2.983297   Sometimes    no  2.763573  no  0.000000   \n",
       "1  yes  2.000000  3.000000  Frequently    no  2.000000  no  1.000000   \n",
       "2  yes  1.880534  1.411685   Sometimes    no  1.910378  no  0.866045   \n",
       "3  yes  3.000000  3.000000   Sometimes    no  1.674061  no  1.467863   \n",
       "4  yes  2.679664  1.971472   Sometimes    no  1.979848  no  1.967973   \n",
       "\n",
       "        TUE       CALC                 MTRANS           NObeyesdad  \n",
       "0  0.976473  Sometimes  Public_Transportation  Overweight_Level_II  \n",
       "1  1.000000         no             Automobile        Normal_Weight  \n",
       "2  1.673584         no  Public_Transportation  Insufficient_Weight  \n",
       "3  0.780199  Sometimes  Public_Transportation     Obesity_Type_III  \n",
       "4  0.931721  Sometimes  Public_Transportation  Overweight_Level_II  "
      ]
     },
     "execution_count": 2,
     "metadata": {},
     "output_type": "execute_result"
    }
   ],
   "source": [
    "data = pd.concat(\n",
    "    [pd.read_csv('../data/train.csv', index_col='id'),\n",
    "     pd.read_csv('../data/ObesityDataSet.csv')]\n",
    ")\n",
    "data.head()"
   ]
  },
  {
   "cell_type": "code",
   "execution_count": 3,
   "id": "fe9a1c62-538c-40a0-a60d-8e60f757e16c",
   "metadata": {},
   "outputs": [],
   "source": [
    "data['BMI'] = make_BMI(data)"
   ]
  },
  {
   "cell_type": "code",
   "execution_count": 4,
   "id": "aef25317-4a51-4ffa-b528-91e2cfc3e0ac",
   "metadata": {},
   "outputs": [],
   "source": [
    "data, target = data.drop('NObeyesdad', axis=1), data['NObeyesdad']\n",
    "\n",
    "numerical = data.dtypes[data.dtypes == 'float64'].index\n",
    "categorical = data.dtypes[data.dtypes == 'object'].index"
   ]
  },
  {
   "cell_type": "code",
   "execution_count": 5,
   "id": "bebdaa55-8476-46c2-9110-5755b240dd43",
   "metadata": {},
   "outputs": [
    {
     "data": {
      "application/vnd.jupyter.widget-view+json": {
       "model_id": "95edd0cd0e0348e59a1bc9418c9369fd",
       "version_major": 2,
       "version_minor": 0
      },
      "text/plain": [
       "MetricVisualizer(layout=Layout(align_self='stretch', height='500px'))"
      ]
     },
     "metadata": {},
     "output_type": "display_data"
    },
    {
     "data": {
      "text/plain": [
       "<catboost.core.CatBoostClassifier at 0x238d18dc940>"
      ]
     },
     "execution_count": 5,
     "metadata": {},
     "output_type": "execute_result"
    }
   ],
   "source": [
    "X_train, X_test, y_train, y_test = train_test_split(data,\n",
    "                                                    target,\n",
    "                                                    test_size=0.20,\n",
    "                                                    random_state=3,\n",
    "                                                    shuffle=True)\n",
    "\n",
    "clf_all = CatBoostClassifier()\n",
    "clf_all.fit(X_train, y_train, cat_features=list(categorical), eval_set=(X_test, y_test), silent=True, plot=True)"
   ]
  },
  {
   "cell_type": "markdown",
   "id": "f042e2ad-8bcb-4f61-84cd-ac49aad06c55",
   "metadata": {},
   "source": [
    "![График обучения](https://s435vlx.storage.yandex.net/rdisk/18916441f29f2f6033ef8cff40dfd64901e9c22fd4ad1d97bbd0744fc0e7b859/65e4deab/LyPBJX7DrmJ2vc9Oq453nVIbhoMIw0C91VAOFX4rTva0M3ZXSqYKnQY4vmFsTPl3BbCqProe-H-h5m5qFscm3A==?uid=285904750&filename=final1.png&disposition=inline&hash=&limit=0&content_type=image%2Fpng&owner_uid=285904750&fsize=26372&hid=85d6e14c90f6e6167082902dba99db79&media_type=image&tknv=v2&etag=86d3df4132b9cfe576704f0749782c1d&rtoken=TS5pG1TXIFmz&force_default=yes&ycrid=na-fb779bb95099a277510414eef4c4dc25-downloader5e&ts=612c786a4c0c0&s=a87cf83b957e2b4666ed3ae3a38f2795d208bde50b6395df2b0ed9ccaa2513c4&pb=U2FsdGVkX1-_N5lKEJlcIYYaPTaANcYaHpuPjlferNCB2Kj7XW0O9g_Qp8dPEfb9TU-Tyg3_cEiqOzNVJrwDsj6gatR46-ev-6BpGPiWLGE)"
   ]
  },
  {
   "cell_type": "code",
   "execution_count": 6,
   "id": "c0e5f1a9-1f03-4eb2-83f0-cb6412745063",
   "metadata": {},
   "outputs": [
    {
     "data": {
      "text/plain": [
       "0.9142982072584172"
      ]
     },
     "execution_count": 6,
     "metadata": {},
     "output_type": "execute_result"
    }
   ],
   "source": [
    "clf_all.score(X_test, y_test)"
   ]
  },
  {
   "cell_type": "code",
   "execution_count": 7,
   "id": "b661e6a1-3e11-4756-b7ea-ae9f9e58731e",
   "metadata": {},
   "outputs": [
    {
     "data": {
      "application/vnd.jupyter.widget-view+json": {
       "model_id": "687f810e2d1b4a1b90f91df465d4c392",
       "version_major": 2,
       "version_minor": 0
      },
      "text/plain": [
       "MetricVisualizer(layout=Layout(align_self='stretch', height='500px'))"
      ]
     },
     "metadata": {},
     "output_type": "display_data"
    },
    {
     "data": {
      "text/plain": [
       "<catboost.core.CatBoostClassifier at 0x238c98a7a60>"
      ]
     },
     "execution_count": 7,
     "metadata": {},
     "output_type": "execute_result"
    }
   ],
   "source": [
    "obesity = target.apply(lambda x: 1 if x in ['Obesity_Type_I', 'Obesity_Type_II', 'Obesity_Type_III'] else 0)\n",
    "\n",
    "X_train, X_test, y_train, y_test = train_test_split(data,\n",
    "                                                    obesity,\n",
    "                                                    test_size=0.20,\n",
    "                                                    random_state=3,\n",
    "                                                    shuffle=True)\n",
    "\n",
    "clf_obesity = CatBoostClassifier()\n",
    "clf_obesity.fit(X_train, y_train, cat_features=list(categorical), eval_set=(X_test, y_test), silent=True, plot=True)"
   ]
  },
  {
   "cell_type": "markdown",
   "id": "d989b453-c4f0-4be2-86e2-54884e47fa1e",
   "metadata": {},
   "source": [
    "![График обучения](https://s989sas.storage.yandex.net/rdisk/16e2150044d00bacaa63b14911b2803dce79368dd90b5fdc895b78db219efe7e/65e4debd/LyPBJX7DrmJ2vc9Oq453ndSSP8YdSLmLF5UBdN1-Zzzok5A7UC1DUIGJrChIl5GkNtxR2829stGwI0n7SFPsdA==?uid=285904750&filename=final2.png&disposition=inline&hash=&limit=0&content_type=image%2Fpng&owner_uid=285904750&fsize=26427&hid=7c2bcce8de4aac0fa73f70695873d2e6&media_type=image&tknv=v2&etag=b2390ccb9c04b5ca2eae2592a2cc7e89&rtoken=sAUnsVGiKECs&force_default=yes&ycrid=na-ac367b2946f5aa369f73836cdafc0118-downloader4f&ts=612c787b76940&s=c44566a69ed717a683fc55a9878e42c33c17ef38a83b203c2cf52a3da3e0f33f&pb=U2FsdGVkX1-EBdlYFEnb-9kHa0NU0X6vdA-yw530i7nZ-NVCDM9CD08wwO9JYondYvEH3P4ebU_6f0X5K0ez4A_Jz2RfVbPF6HPhLY3u4eI)"
   ]
  },
  {
   "cell_type": "code",
   "execution_count": 8,
   "id": "76518d2c-53fe-4542-9745-5cc43fe4f556",
   "metadata": {},
   "outputs": [
    {
     "data": {
      "text/plain": [
       "0.9777000437254044"
      ]
     },
     "execution_count": 8,
     "metadata": {},
     "output_type": "execute_result"
    }
   ],
   "source": [
    "clf_obesity.score(X_test, y_test)"
   ]
  },
  {
   "cell_type": "code",
   "execution_count": 9,
   "id": "ecd0fa81-7f35-4c0e-a885-39cb1e2aaeac",
   "metadata": {},
   "outputs": [
    {
     "data": {
      "application/vnd.jupyter.widget-view+json": {
       "model_id": "9139cab88c3748938264a6bdc3d5339b",
       "version_major": 2,
       "version_minor": 0
      },
      "text/plain": [
       "MetricVisualizer(layout=Layout(align_self='stretch', height='500px'))"
      ]
     },
     "metadata": {},
     "output_type": "display_data"
    },
    {
     "data": {
      "text/plain": [
       "<catboost.core.CatBoostClassifier at 0x238d18ddab0>"
      ]
     },
     "execution_count": 9,
     "metadata": {},
     "output_type": "execute_result"
    }
   ],
   "source": [
    "overweight = target.apply(lambda x: 1 if x in ['Overweight_Level_I', 'Overweight_Level_II'] else 0)\n",
    "\n",
    "X_train, X_test, y_train, y_test = train_test_split(data,\n",
    "                                                    overweight,\n",
    "                                                    test_size=0.20,\n",
    "                                                    random_state=3,\n",
    "                                                    shuffle=True)\n",
    "\n",
    "clf_overweight = CatBoostClassifier()\n",
    "clf_overweight.fit(X_train, y_train, cat_features=list(categorical), eval_set=(X_test, y_test), silent=True, plot=True)"
   ]
  },
  {
   "cell_type": "markdown",
   "id": "58f38d53-7fca-4e4f-ac16-e43f005d2e82",
   "metadata": {},
   "source": [
    "![График обучения](https://s435vlx.storage.yandex.net/rdisk/9e4ea06d7e281f9b915a933bf5f7b07b8e334a7e7a3925f990a0bddf260f40fe/65e4df25/LyPBJX7DrmJ2vc9Oq453nbIJX82g2ywv3kxhuk87FxjkFdPjHxGGLFKIzroPGn4bcsqha2sHh3hUCv7xGsinZQ==?uid=285904750&filename=final3.png&disposition=inline&hash=&limit=0&content_type=image%2Fpng&owner_uid=285904750&fsize=25822&hid=0b946e5c2c464151f546bd412461a55e&media_type=image&tknv=v2&etag=3539c2c745b0b3365ff65b61803513cd&rtoken=1mQoCxcaBELK&force_default=yes&ycrid=na-014c4b602a0de19555c115ddd97f4d09-downloader5e&ts=612c78dea5340&s=6b106464698ea5c59b16df3809c3a36723079974aed6e42483d4c6623cd65d2e&pb=U2FsdGVkX18MXCFVkCkYuxbYR_J-Z2A9Oj04WpdFi03i6fKXwcHQAhnirkb5MdIqeBGkWlAOglZud8STcvtoemss7HiUz_JU6FcicbZNL-s)"
   ]
  },
  {
   "cell_type": "code",
   "execution_count": 10,
   "id": "6ddfc311-84e4-46f5-be20-05757d0b8bb4",
   "metadata": {},
   "outputs": [
    {
     "data": {
      "text/plain": [
       "0.9564932225623087"
      ]
     },
     "execution_count": 10,
     "metadata": {},
     "output_type": "execute_result"
    }
   ],
   "source": [
    "clf_overweight.score(X_test, y_test)"
   ]
  },
  {
   "cell_type": "code",
   "execution_count": 11,
   "id": "1bd134d3-fe65-4498-bd85-33cb3f19d7c4",
   "metadata": {},
   "outputs": [
    {
     "data": {
      "application/vnd.jupyter.widget-view+json": {
       "model_id": "41b347fa90e24e17b4e9bc9600b5b5cf",
       "version_major": 2,
       "version_minor": 0
      },
      "text/plain": [
       "MetricVisualizer(layout=Layout(align_self='stretch', height='500px'))"
      ]
     },
     "metadata": {},
     "output_type": "display_data"
    },
    {
     "data": {
      "text/plain": [
       "<catboost.core.CatBoostClassifier at 0x238d1917c40>"
      ]
     },
     "execution_count": 11,
     "metadata": {},
     "output_type": "execute_result"
    }
   ],
   "source": [
    "normal_and_less = target.apply(lambda x: 1 if x in ['Normal_Weight', 'Insufficient_Weight'] else 0)\n",
    "\n",
    "X_train, X_test, y_train, y_test = train_test_split(data,\n",
    "                                                    normal_and_less,\n",
    "                                                    test_size=0.20,\n",
    "                                                    random_state=3,\n",
    "                                                    shuffle=True)\n",
    "\n",
    "clf_normless = CatBoostClassifier()\n",
    "clf_normless.fit(X_train, y_train, cat_features=list(categorical), eval_set=(X_test, y_test), silent=True, plot=True)"
   ]
  },
  {
   "cell_type": "markdown",
   "id": "8f3f199d-fc4e-44af-a86a-5fe944b2b183",
   "metadata": {},
   "source": [
    "![График обучения](https://s183vlx.storage.yandex.net/rdisk/c02b238005b46d72011adf850f7d56cb69a7d9381fd1aeac7f816fb988983feb/65e4df4d/LyPBJX7DrmJ2vc9Oq453nfzYxcg40NL16W-q9PoEPtEocG4cy9dhjbhbZaWsqR61tiIgTauDPGEcCAXyAkqV2A==?uid=285904750&filename=final4.png&disposition=inline&hash=&limit=0&content_type=image%2Fpng&owner_uid=285904750&fsize=26147&hid=b8c56a96b382f605d7046496dedfd567&media_type=image&tknv=v2&etag=b89b1ac6eb01ccc1a1f9e95fcce20436&rtoken=xKIJxZ0Bu3p3&force_default=yes&ycrid=na-c0e92cd6ebada0f6d2812386b30800d9-downloader5e&ts=612c7904cad40&s=0c59f82d65ab87b36fb6534e18d21d339bf3a785bf21fe45358b4b33485e0b97&pb=U2FsdGVkX1915jOmbhpTC3DwzRh3Wr1VeXdfxVb5tHXgN2HGZ86c-QhK7wJ45Hzark2RP9lNYcjDw2-HP4dYEhwCppsZP40SUCXHWuEgUEE)"
   ]
  },
  {
   "cell_type": "code",
   "execution_count": 12,
   "id": "78310fe8-a1f7-44f7-b7ee-b3bf2dcc0bb6",
   "metadata": {},
   "outputs": [
    {
     "data": {
      "text/plain": [
       "0.9770441626585046"
      ]
     },
     "execution_count": 12,
     "metadata": {},
     "output_type": "execute_result"
    }
   ],
   "source": [
    "clf_normless.score(X_test, y_test)"
   ]
  },
  {
   "cell_type": "code",
   "execution_count": 13,
   "id": "2444f238-aabb-4f54-b23f-08d40d75f6ee",
   "metadata": {},
   "outputs": [
    {
     "data": {
      "application/vnd.jupyter.widget-view+json": {
       "model_id": "36839f1cfb1943f6a5689a028147a16d",
       "version_major": 2,
       "version_minor": 0
      },
      "text/plain": [
       "MetricVisualizer(layout=Layout(align_self='stretch', height='500px'))"
      ]
     },
     "metadata": {},
     "output_type": "display_data"
    },
    {
     "data": {
      "text/plain": [
       "<catboost.core.CatBoostClassifier at 0x238d1915b70>"
      ]
     },
     "execution_count": 13,
     "metadata": {},
     "output_type": "execute_result"
    }
   ],
   "source": [
    "data_norm_against_less, target_norm_against_less = data[target.isin(['Normal_Weight', 'Insufficient_Weight'])], target[target.isin(['Normal_Weight', 'Insufficient_Weight'])]\n",
    "\n",
    "X_train, X_test, y_train, y_test = train_test_split(data_norm_against_less,\n",
    "                                                    target_norm_against_less,\n",
    "                                                    test_size=0.20,\n",
    "                                                    random_state=3,\n",
    "                                                    shuffle=True)\n",
    "\n",
    "clf_norm_against_less = CatBoostClassifier()\n",
    "clf_norm_against_less.fit(X_train, y_train, cat_features=list(categorical), eval_set=(X_test, y_test), silent=True, plot=True)"
   ]
  },
  {
   "cell_type": "markdown",
   "id": "f09fe3dd-6956-4326-b259-9549fd8e69fd",
   "metadata": {},
   "source": [
    "![График обучения](https://s962sas.storage.yandex.net/rdisk/365ba697957c3c428802652af01d18e8ad7c219ae4479fb5d6f3e370d67efae4/65e4dfb0/LyPBJX7DrmJ2vc9Oq453nfeEbSJi4GgO_jwBvlTac_go5zUqX2jiEHRVz91gjTU9Yy3hK9L27EClfW4BW5ZLHg==?uid=285904750&filename=final5.png&disposition=inline&hash=&limit=0&content_type=image%2Fpng&owner_uid=285904750&fsize=25489&hid=ed98df54375bcf052478f224e724c8de&media_type=image&tknv=v2&etag=1a78161b28eeda5ef7ab0b56af2dbeed&rtoken=xMPtmjyu076o&force_default=yes&ycrid=na-0024d5a8c1430aef58379b4610eb3e87-downloader5e&ts=612c796334c00&s=610cae221dc0ac04a6c1b86bfd264480f420ee5c90ff2e5ea8c2294292aaad85&pb=U2FsdGVkX18PYAoME8FlY79stEehu_FgIsB_a-sl6d26hKNLc4KJ-vYp2IlzQwwU8GLlCem2gP7jZSXVPIsgkjLsSCaRjq3jFdlZT0SgIvo)"
   ]
  },
  {
   "cell_type": "code",
   "execution_count": 14,
   "id": "d0ddcccb-d05b-4ebb-a4ac-c236efb681a2",
   "metadata": {},
   "outputs": [
    {
     "data": {
      "text/plain": [
       "0.9578264395782644"
      ]
     },
     "execution_count": 14,
     "metadata": {},
     "output_type": "execute_result"
    }
   ],
   "source": [
    "clf_norm_against_less.score(X_test, y_test)"
   ]
  },
  {
   "cell_type": "code",
   "execution_count": 15,
   "id": "fe334c83-fbc9-49ca-bc77-19d6ed3ca5ff",
   "metadata": {},
   "outputs": [
    {
     "data": {
      "application/vnd.jupyter.widget-view+json": {
       "model_id": "0c467062fc10455ebdbc9ddfaf3e9f13",
       "version_major": 2,
       "version_minor": 0
      },
      "text/plain": [
       "MetricVisualizer(layout=Layout(align_self='stretch', height='500px'))"
      ]
     },
     "metadata": {},
     "output_type": "display_data"
    },
    {
     "data": {
      "text/plain": [
       "<catboost.core.CatBoostClassifier at 0x238d1916c80>"
      ]
     },
     "execution_count": 15,
     "metadata": {},
     "output_type": "execute_result"
    }
   ],
   "source": [
    "data_norm_against_overweight1, target_norm_against_overweight1 = data[target.isin(['Normal_Weight', 'Overweight_Level_I'])], target[target.isin(['Normal_Weight', 'Overweight_Level_I'])]\n",
    "\n",
    "X_train, X_test, y_train, y_test = train_test_split(data_norm_against_overweight1,\n",
    "                                                    target_norm_against_overweight1,\n",
    "                                                    test_size=0.20,\n",
    "                                                    random_state=3,\n",
    "                                                    shuffle=True)\n",
    "\n",
    "clf_norm_against_overweight1 = CatBoostClassifier()\n",
    "clf_norm_against_overweight1.fit(X_train, y_train, cat_features=list(categorical), eval_set=(X_test, y_test), silent=True, plot=True)"
   ]
  },
  {
   "cell_type": "markdown",
   "id": "8c6c5455-0b04-4039-9e2f-9490f3b618a6",
   "metadata": {},
   "source": [
    "![График обучения](https://s60klg.storage.yandex.net/rdisk/b6a28c7554665160450eeff70cf7985460ef5ee16775935ec255175d624bbb90/65e4e046/LyPBJX7DrmJ2vc9Oq453nWTzS0fR5bAcAsQbiaXSZOg-wPuUT7b0_02sIVvKDR20NWIquKhpYcueBOgnDrywVA==?uid=285904750&filename=final6.png&disposition=inline&hash=&limit=0&content_type=image%2Fpng&owner_uid=285904750&fsize=26219&hid=5068c41a6bb3742863f43281e8fb6932&media_type=image&tknv=v2&etag=b7f05685f8a9faad8c6d552c2b319437&rtoken=uqlVB7cMJ309&force_default=yes&ycrid=na-f2c2ebe58fc246af7b5ece8b175f3cb4-downloader4f&ts=612c79f241d80&s=7879017f573579a3d3dae42abffb0d962e811d88b6183da966dde8e8b2254a79&pb=U2FsdGVkX1-DfgyOW171s-DwyO7K_pjWev83MJ_U08AY2tu2AvA_rIbzmDjbn7SFNwWpm92ST6oDJ5oxgGmG7QBDTWZ1ieYFIJ-WjhOUXNI)"
   ]
  },
  {
   "cell_type": "code",
   "execution_count": 16,
   "id": "b1304a65-333b-4569-8573-deb89e505f41",
   "metadata": {},
   "outputs": [
    {
     "data": {
      "text/plain": [
       "0.9376026272577996"
      ]
     },
     "execution_count": 16,
     "metadata": {},
     "output_type": "execute_result"
    }
   ],
   "source": [
    "clf_norm_against_overweight1.score(X_test, y_test)"
   ]
  },
  {
   "cell_type": "code",
   "execution_count": 17,
   "id": "b224dc1d-a119-4058-b837-b635cbf0b6e9",
   "metadata": {},
   "outputs": [
    {
     "data": {
      "application/vnd.jupyter.widget-view+json": {
       "model_id": "0e7ae7b46bc64218b5ab47610c7b3409",
       "version_major": 2,
       "version_minor": 0
      },
      "text/plain": [
       "MetricVisualizer(layout=Layout(align_self='stretch', height='500px'))"
      ]
     },
     "metadata": {},
     "output_type": "display_data"
    },
    {
     "data": {
      "text/plain": [
       "<catboost.core.CatBoostClassifier at 0x238d19174f0>"
      ]
     },
     "execution_count": 17,
     "metadata": {},
     "output_type": "execute_result"
    }
   ],
   "source": [
    "data_overweight1_against_overweight2, target_overweight1_against_overweight2 = data[target.isin(['Overweight_Level_I', 'Overweight_Level_II'])], target[target.isin(['Overweight_Level_I', 'Overweight_Level_II'])]\n",
    "\n",
    "X_train, X_test, y_train, y_test = train_test_split(data_overweight1_against_overweight2,\n",
    "                                                    target_overweight1_against_overweight2,\n",
    "                                                    test_size=0.20,\n",
    "                                                    random_state=3,\n",
    "                                                    shuffle=True)\n",
    "\n",
    "clf_overweight1_against_overweight2 = CatBoostClassifier()\n",
    "clf_overweight1_against_overweight2.fit(X_train, y_train, cat_features=list(categorical), eval_set=(X_test, y_test), silent=True, plot=True)"
   ]
  },
  {
   "cell_type": "markdown",
   "id": "51a7e5b5-6caf-4987-88e7-afa6d60b0307",
   "metadata": {},
   "source": [
    "![График обучения](https://s425vlx.storage.yandex.net/rdisk/ce9dd5ccc685cd391f4951111c37f50725be009170545a61f6c226fade0f6ec0/65e4e060/LyPBJX7DrmJ2vc9Oq453nZLz-dIitEW68US4DcKH0cZG2U3X6JjOobXbD3yISyi7vAvZKt9r1EaLBJd7eZMUkA==?uid=285904750&filename=final7.png&disposition=inline&hash=&limit=0&content_type=image%2Fpng&owner_uid=285904750&fsize=26712&hid=19250d52756c686d0c83fcbc7b84a787&media_type=image&tknv=v2&etag=98859db0aede7478cdb105fb59bb8de3&rtoken=Ol73W9r62U7R&force_default=yes&ycrid=na-df78d4044c4e54ee0d918269c4bb22c5-downloader4f&ts=612c7a0b0d800&s=aa88725e922d07c6118eba9b647ace3092a0458491f43ef36337129d918344a0&pb=U2FsdGVkX193UVveyP1fQCjEZeRYOjz7yXaYsy47513JwIhZTeBLK6PwFWgFSuKSc_mgS8-J8EzUoU43O864YR4qKWSENRBw2V0kX9g34xM)"
   ]
  },
  {
   "cell_type": "code",
   "execution_count": 18,
   "id": "3a9eb303-c8c2-4b5b-b016-253c36e67037",
   "metadata": {},
   "outputs": [
    {
     "data": {
      "text/plain": [
       "0.8960216998191681"
      ]
     },
     "execution_count": 18,
     "metadata": {},
     "output_type": "execute_result"
    }
   ],
   "source": [
    "clf_overweight1_against_overweight2.score(X_test, y_test)"
   ]
  },
  {
   "cell_type": "code",
   "execution_count": 19,
   "id": "50435547-ee7a-4d85-82fc-c72426110597",
   "metadata": {},
   "outputs": [
    {
     "data": {
      "application/vnd.jupyter.widget-view+json": {
       "model_id": "be3f3c2899274c9485ed3aee916a975e",
       "version_major": 2,
       "version_minor": 0
      },
      "text/plain": [
       "MetricVisualizer(layout=Layout(align_self='stretch', height='500px'))"
      ]
     },
     "metadata": {},
     "output_type": "display_data"
    },
    {
     "data": {
      "text/plain": [
       "<catboost.core.CatBoostClassifier at 0x238d1916d40>"
      ]
     },
     "execution_count": 19,
     "metadata": {},
     "output_type": "execute_result"
    }
   ],
   "source": [
    "data_obesity1_against_obesity2, target_obesity1_against_obesity2 = data[target.isin(['Obesity_Type_I', 'Obesity_Type_II'])], target[target.isin(['Obesity_Type_I', 'Obesity_Type_II'])]\n",
    "\n",
    "X_train, X_test, y_train, y_test = train_test_split(data_obesity1_against_obesity2,\n",
    "                                                    target_obesity1_against_obesity2,\n",
    "                                                    test_size=0.20,\n",
    "                                                    random_state=3,\n",
    "                                                    shuffle=True)\n",
    "\n",
    "clf_obesity1_against_obesity2 = CatBoostClassifier()\n",
    "clf_obesity1_against_obesity2.fit(X_train, y_train, cat_features=list(categorical), eval_set=(X_test, y_test), silent=True, plot=True)"
   ]
  },
  {
   "cell_type": "markdown",
   "id": "fce5e031-d216-4b33-af3c-30ebec1d2a2a",
   "metadata": {},
   "source": [
    "![График обучения](https://s114vla.storage.yandex.net/rdisk/c1a489c1d83cea5364b0a9de2a32171c08440143a0ddae25ccd8ff717636de98/65e4e089/LyPBJX7DrmJ2vc9Oq453nYaciR9wzoL58HEl12cnBeMQy6c8XW1n7RhYnTt1YQzBrIZF4Nul9iRQJLPgCo2CJA==?uid=285904750&filename=final8.png&disposition=inline&hash=&limit=0&content_type=image%2Fpng&owner_uid=285904750&fsize=26314&hid=8baea560c84a2a3055af2074a0bc47c6&media_type=image&tknv=v2&etag=defb8cb60daf32f4e7a4e651de39c726&rtoken=4beaZmtHMuyN&force_default=yes&ycrid=na-b04a65e4e9d79dc674e7f399daca2cc1-downloader4f&ts=612c7a3227440&s=899a106430483bb704295e78aa854c03fdadf9d71d7debc0c1dd30f4793acd71&pb=U2FsdGVkX18kZMk8WQq7DWbyMWQOpHORIBQS3W8fx1ftpg8YPPwl1coRCXcXwh5gpsAtOwyF-PAROBDbkHeSdeUzO1X4LMQX_uOx4JiZRhU)"
   ]
  },
  {
   "cell_type": "code",
   "execution_count": 20,
   "id": "d3958ace-bb04-4405-985a-be3d2cc59e54",
   "metadata": {},
   "outputs": [
    {
     "data": {
      "text/plain": [
       "0.972834067547724"
      ]
     },
     "execution_count": 20,
     "metadata": {},
     "output_type": "execute_result"
    }
   ],
   "source": [
    "clf_obesity1_against_obesity2.score(X_test, y_test)"
   ]
  },
  {
   "cell_type": "code",
   "execution_count": 21,
   "id": "2a0144e6-5e87-4b2d-9849-1f2a4336879c",
   "metadata": {},
   "outputs": [],
   "source": [
    "models = [\n",
    "    clf_all,\n",
    "    clf_obesity,\n",
    "    clf_overweight,\n",
    "    clf_normless,\n",
    "    clf_norm_against_less,\n",
    "    clf_norm_against_overweight1,\n",
    "    clf_overweight1_against_overweight2,\n",
    "    clf_obesity1_against_obesity2    \n",
    "]"
   ]
  },
  {
   "cell_type": "code",
   "execution_count": 22,
   "id": "dec09e9e-9bfd-49a1-8a2f-ad8d31b0a01f",
   "metadata": {},
   "outputs": [
    {
     "data": {
      "text/plain": [
       "array([[1.95775494e-05, 2.05606137e-04, 1.40186083e-02, 2.01217320e-04,\n",
       "        3.54175372e-06, 4.85827420e-02],\n",
       "       [2.43320016e-02, 9.68697574e-01, 1.29277556e-04, 3.51764410e-06,\n",
       "        6.44802190e-06, 4.06636457e-03],\n",
       "       [9.22977422e-01, 8.67345285e-03, 1.06819118e-02, 6.83631487e-05,\n",
       "        2.11983757e-05, 5.48778511e-02],\n",
       "       ...,\n",
       "       [6.91595181e-08, 4.79809622e-07, 3.65962109e-04, 4.67989333e-04,\n",
       "        9.99155580e-01, 1.45550901e-06],\n",
       "       [1.29932114e-07, 1.04109394e-06, 7.73608309e-04, 9.23903304e-04,\n",
       "        9.98277418e-01, 3.69369533e-06],\n",
       "       [1.28907657e-07, 1.05200975e-06, 7.64365021e-04, 7.60427315e-04,\n",
       "        9.98442915e-01, 4.07549782e-06]])"
      ]
     },
     "execution_count": 22,
     "metadata": {},
     "output_type": "execute_result"
    }
   ],
   "source": [
    "clf_all.predict_proba(data)[:, :-1]"
   ]
  },
  {
   "cell_type": "code",
   "execution_count": 23,
   "id": "f6b555c3-cad6-4404-a7ee-acfab5cd9065",
   "metadata": {},
   "outputs": [
    {
     "data": {
      "text/plain": [
       "(22869, 20)"
      ]
     },
     "execution_count": 23,
     "metadata": {},
     "output_type": "execute_result"
    }
   ],
   "source": [
    "preds = clf_all.predict_proba(data)[:, :-1]\n",
    "\n",
    "for model in models[1:]:\n",
    "    preds = np.hstack((preds, model.predict_proba(data)))\n",
    "    \n",
    "preds.shape"
   ]
  },
  {
   "cell_type": "code",
   "execution_count": 24,
   "id": "3ade2733-892f-4c2b-a372-67d977247c74",
   "metadata": {},
   "outputs": [
    {
     "data": {
      "application/vnd.jupyter.widget-view+json": {
       "model_id": "854b07d388444c5592e6d0a53a8baf15",
       "version_major": 2,
       "version_minor": 0
      },
      "text/plain": [
       "MetricVisualizer(layout=Layout(align_self='stretch', height='500px'))"
      ]
     },
     "metadata": {},
     "output_type": "display_data"
    },
    {
     "data": {
      "text/plain": [
       "<catboost.core.CatBoostClassifier at 0x238d18de440>"
      ]
     },
     "execution_count": 24,
     "metadata": {},
     "output_type": "execute_result"
    }
   ],
   "source": [
    "X_train, X_test, y_train, y_test = train_test_split(preds,\n",
    "                                                    target,\n",
    "                                                    test_size=0.20,\n",
    "                                                    random_state=3,\n",
    "                                                    shuffle=True)\n",
    "\n",
    "clf_final = CatBoostClassifier()\n",
    "clf_final.fit(X_train, y_train, eval_set=(X_test, y_test), silent=True, plot=True)"
   ]
  },
  {
   "cell_type": "markdown",
   "id": "caebc196-4c6d-4699-abba-f8497d96224a",
   "metadata": {},
   "source": [
    "![График обучения](https://s593vla.storage.yandex.net/rdisk/6d901dc7e0d3bf688284670374a061b9b507025281d213e827c7764f5b59f24e/65e4e0ae/LyPBJX7DrmJ2vc9Oq453nQj0HrxXkgPXSzAtQVHQbg63q5ZI8IoH4i6g80GJqCn7pvBX-uC_8Mtqw97rFHwE2w==?uid=285904750&filename=final9.png&disposition=inline&hash=&limit=0&content_type=image%2Fpng&owner_uid=285904750&fsize=27094&hid=9ddc2814733a3460c4a42b3d305cc91a&media_type=image&tknv=v2&etag=5eedff74398afcb20d49e02aeb6e5079&rtoken=XHM5juZ1hTF2&force_default=yes&ycrid=na-7f23e9b16ea3eccbfca667f0b6d27d9b-downloader4f&ts=612c7a5570780&s=7ab8758ed8b06c29e3ca03c5eff93f1db542eb1da766c63cca227053b0c61ab5&pb=U2FsdGVkX199yHz6cN2tJvi79bIhD4YMeUfq8d6G4If-iqEyZkD8-UmyEP_D1ZdVxhXMME27dBt_AEBEgZStYHXuG_iP0N2Et53B0Rh-Ql0)"
   ]
  },
  {
   "cell_type": "code",
   "execution_count": 25,
   "id": "50423989-6bbd-4256-9305-4cd6f06e12ac",
   "metadata": {},
   "outputs": [
    {
     "data": {
      "text/plain": [
       "0.9361609094884128"
      ]
     },
     "execution_count": 25,
     "metadata": {},
     "output_type": "execute_result"
    }
   ],
   "source": [
    "clf_final.score(X_test, y_test)"
   ]
  },
  {
   "cell_type": "code",
   "execution_count": 26,
   "id": "ce332ef1-9c34-45a0-8da8-78a8f2e7c2e3",
   "metadata": {},
   "outputs": [],
   "source": [
    "def objective(trial):\n",
    "    X_train, X_valid, y_train, y_valid = train_test_split(\n",
    "        preds,\n",
    "        target,\n",
    "        test_size=0.20,\n",
    "        shuffle=True\n",
    "    )\n",
    "\n",
    "    param = {\n",
    "        \"colsample_bylevel\": trial.suggest_float(\"colsample_bylevel\", 0.01, 0.1),\n",
    "        \"depth\": trial.suggest_int(\"depth\", 1, 12),\n",
    "        \"boosting_type\": trial.suggest_categorical(\"boosting_type\", [\"Ordered\", \"Plain\"]),\n",
    "        \"bootstrap_type\": trial.suggest_categorical(\n",
    "            \"bootstrap_type\", [\"Bayesian\", \"Bernoulli\", \"MVS\"]\n",
    "        ),\n",
    "        \"learning_rate\": trial.suggest_float(\"learning_rate\", 1e-3, 0.1, log=True),\n",
    "        \"min_data_in_leaf\": trial.suggest_int(\"min_data_in_leaf\", 1, 100),\n",
    "        #\"used_ram_limit\": \"3gb\",\n",
    "    }\n",
    "\n",
    "    if param[\"bootstrap_type\"] == \"Bayesian\":\n",
    "        param[\"bagging_temperature\"] = trial.suggest_float(\"bagging_temperature\", 0, 10)\n",
    "    elif param[\"bootstrap_type\"] == \"Bernoulli\":\n",
    "        param[\"subsample\"] = trial.suggest_float(\"subsample\", 0.1, 1)\n",
    "\n",
    "    \n",
    "    clf = CatBoostClassifier(**param, iterations=1200, logging_level='Silent')\n",
    "    train = Pool(X_train, y_train)\n",
    "    valid = Pool(X_valid, y_valid)\n",
    "\n",
    "    clf.fit(train, eval_set=valid, verbose=False, early_stopping_rounds=100)\n",
    "\n",
    "    accuracy = accuracy_score(y_valid, clf.predict(X_valid))\n",
    "    return accuracy"
   ]
  },
  {
   "cell_type": "code",
   "execution_count": 27,
   "id": "54491e57-aade-4842-b846-a6ea03260bd3",
   "metadata": {},
   "outputs": [
    {
     "name": "stderr",
     "output_type": "stream",
     "text": [
      "[I 2024-03-03 19:06:50,250] A new study created in memory with name: no-name-ebd36fc5-7ec5-4794-9b7c-dbe645e89469\n",
      "[I 2024-03-03 19:12:43,070] Trial 0 finished with value: 0.9420638390905116 and parameters: {'colsample_bylevel': 0.0836194970976684, 'depth': 11, 'boosting_type': 'Ordered', 'bootstrap_type': 'Bernoulli', 'learning_rate': 0.005424462669758736, 'min_data_in_leaf': 40, 'subsample': 0.6952250029289982}. Best is trial 0 with value: 0.9420638390905116.\n",
      "[I 2024-03-03 19:12:56,002] Trial 1 finished with value: 0.954744206383909 and parameters: {'colsample_bylevel': 0.09321369980768827, 'depth': 6, 'boosting_type': 'Plain', 'bootstrap_type': 'Bernoulli', 'learning_rate': 0.056927854434741736, 'min_data_in_leaf': 81, 'subsample': 0.4941500292316874}. Best is trial 1 with value: 0.954744206383909.\n",
      "[I 2024-03-03 19:13:02,091] Trial 2 finished with value: 0.9464363795365107 and parameters: {'colsample_bylevel': 0.047932667439327635, 'depth': 7, 'boosting_type': 'Plain', 'bootstrap_type': 'Bernoulli', 'learning_rate': 0.032566248135591225, 'min_data_in_leaf': 7, 'subsample': 0.2781557687626526}. Best is trial 1 with value: 0.954744206383909.\n",
      "[I 2024-03-03 19:13:33,259] Trial 3 finished with value: 0.9466550065588106 and parameters: {'colsample_bylevel': 0.029223043242541623, 'depth': 3, 'boosting_type': 'Ordered', 'bootstrap_type': 'Bernoulli', 'learning_rate': 0.009082429827372004, 'min_data_in_leaf': 64, 'subsample': 0.1708222625796168}. Best is trial 1 with value: 0.954744206383909.\n",
      "[I 2024-03-03 19:14:47,677] Trial 4 finished with value: 0.9442501093135112 and parameters: {'colsample_bylevel': 0.06498667976313417, 'depth': 8, 'boosting_type': 'Ordered', 'bootstrap_type': 'Bayesian', 'learning_rate': 0.07657877835637879, 'min_data_in_leaf': 39, 'bagging_temperature': 7.112428397029396}. Best is trial 1 with value: 0.954744206383909.\n",
      "[I 2024-03-03 19:15:18,725] Trial 5 finished with value: 0.7313073895933537 and parameters: {'colsample_bylevel': 0.014536485414323567, 'depth': 3, 'boosting_type': 'Ordered', 'bootstrap_type': 'MVS', 'learning_rate': 0.0011997071108021274, 'min_data_in_leaf': 35}. Best is trial 1 with value: 0.954744206383909.\n",
      "[I 2024-03-03 19:15:52,702] Trial 6 finished with value: 0.940096195889812 and parameters: {'colsample_bylevel': 0.03987982494608034, 'depth': 5, 'boosting_type': 'Ordered', 'bootstrap_type': 'Bayesian', 'learning_rate': 0.0018246846763071895, 'min_data_in_leaf': 24, 'bagging_temperature': 4.754568645623383}. Best is trial 1 with value: 0.954744206383909.\n",
      "[I 2024-03-03 19:23:48,808] Trial 7 finished with value: 0.9492785308264101 and parameters: {'colsample_bylevel': 0.09097408935167423, 'depth': 11, 'boosting_type': 'Ordered', 'bootstrap_type': 'Bernoulli', 'learning_rate': 0.015045779159543431, 'min_data_in_leaf': 11, 'subsample': 0.7991505737527769}. Best is trial 1 with value: 0.954744206383909.\n"
     ]
    }
   ],
   "source": [
    "study = optuna.create_study(direction=\"maximize\")\n",
    "study.optimize(objective, n_trials=50, timeout=600)"
   ]
  },
  {
   "cell_type": "code",
   "execution_count": 28,
   "id": "ef079006-c87c-4a3d-933e-30f6cfbcb092",
   "metadata": {},
   "outputs": [
    {
     "name": "stdout",
     "output_type": "stream",
     "text": [
      "Best hyperparameters: {'colsample_bylevel': 0.09321369980768827, 'depth': 6, 'boosting_type': 'Plain', 'bootstrap_type': 'Bernoulli', 'learning_rate': 0.056927854434741736, 'min_data_in_leaf': 81, 'subsample': 0.4941500292316874}\n",
      "Best Accuracy: 0.954744206383909\n"
     ]
    }
   ],
   "source": [
    "print('Best hyperparameters:', study.best_params)\n",
    "print('Best Accuracy:', study.best_value)"
   ]
  },
  {
   "cell_type": "code",
   "execution_count": 29,
   "id": "9b15146b-4dc9-4915-860d-4cbbfb83d771",
   "metadata": {},
   "outputs": [],
   "source": [
    "best_params = study.best_params"
   ]
  },
  {
   "cell_type": "code",
   "execution_count": 30,
   "id": "7b72e4cb-945d-40a3-8659-0f53776bb2aa",
   "metadata": {},
   "outputs": [
    {
     "data": {
      "application/vnd.jupyter.widget-view+json": {
       "model_id": "c699ba07b1cd42539d6339b0ced5bd41",
       "version_major": 2,
       "version_minor": 0
      },
      "text/plain": [
       "MetricVisualizer(layout=Layout(align_self='stretch', height='500px'))"
      ]
     },
     "metadata": {},
     "output_type": "display_data"
    },
    {
     "data": {
      "text/plain": [
       "<catboost.core.CatBoostClassifier at 0x238d1915e70>"
      ]
     },
     "execution_count": 30,
     "metadata": {},
     "output_type": "execute_result"
    }
   ],
   "source": [
    "X_train, X_test, y_train, y_test = train_test_split(preds,\n",
    "                                                    target,\n",
    "                                                    test_size=0.20,\n",
    "                                                    random_state=3,\n",
    "                                                    shuffle=True)\n",
    "\n",
    "clf_final1 = CatBoostClassifier(**best_params)\n",
    "clf_final1.fit(X_train, y_train, eval_set=(X_test, y_test), silent=True, plot=True)"
   ]
  },
  {
   "cell_type": "markdown",
   "id": "99ddfc2f-ba7a-45ee-b0ad-a4ca26de712a",
   "metadata": {},
   "source": [
    "![График обучения](https://s961sas.storage.yandex.net/rdisk/d8628a91648dadf13af10e154cc89735418d40830a25ba364bd3a10723094897/65e4e0c4/LyPBJX7DrmJ2vc9Oq453ndkbCTOzIKCkzu7bPLone6ZyYg3ycax9nvCByhQF_NgfJAaNqsMXGN5d146RHtz4eA==?uid=285904750&filename=final10.png&disposition=inline&hash=&limit=0&content_type=image%2Fpng&owner_uid=285904750&fsize=27101&hid=f229d785d5d29ed24f8ce7d9fdd0093b&media_type=image&tknv=v2&etag=277423c8836d7c393f81a2d4b334c75a&rtoken=Cyant86jK1Hq&force_default=yes&ycrid=na-c0ca26ec2a82b8698050e9f75102bf27-downloader4f&ts=612c7a6a6b900&s=f2b24332f3b6ff34b598e6d68228eb86e8a09565e3c6c8fd20642910155d5228&pb=U2FsdGVkX1-57_SWZ9OO2RgcoyrNU-RAyFzQF7RlUu1ezkU-wa7zcGsdqtvTJnj3h2rHLuyYxlyTfn0x-potCaiJaUmL40N74TnK2HnU4_0)"
   ]
  },
  {
   "cell_type": "code",
   "execution_count": 31,
   "id": "bbff36b1-90ae-43ff-b988-c1185dde3e85",
   "metadata": {},
   "outputs": [
    {
     "data": {
      "text/plain": [
       "0.9341932662877132"
      ]
     },
     "execution_count": 31,
     "metadata": {},
     "output_type": "execute_result"
    }
   ],
   "source": [
    "clf_final1.score(X_test, y_test)"
   ]
  },
  {
   "cell_type": "code",
   "execution_count": 32,
   "id": "09bce380-3db3-4bb0-87cb-09175abb4682",
   "metadata": {},
   "outputs": [
    {
     "data": {
      "text/plain": [
       "id\n",
       "20758        Obesity_Type_II\n",
       "20759     Overweight_Level_I\n",
       "20760       Obesity_Type_III\n",
       "20761         Obesity_Type_I\n",
       "20762       Obesity_Type_III\n",
       "                ...         \n",
       "34593    Overweight_Level_II\n",
       "34594          Normal_Weight\n",
       "34595    Insufficient_Weight\n",
       "34596          Normal_Weight\n",
       "34597        Obesity_Type_II\n",
       "Name: pred4, Length: 13840, dtype: object"
      ]
     },
     "execution_count": 32,
     "metadata": {},
     "output_type": "execute_result"
    }
   ],
   "source": [
    "test = pd.read_csv('../data/test.csv', index_col='id')\n",
    "\n",
    "test['BMI'] = make_BMI(test)\n",
    "\n",
    "preds = clf_all.predict_proba(test)[:, :-1]\n",
    "\n",
    "for model in models[1:]:\n",
    "    preds = np.hstack((preds, model.predict_proba(test)))\n",
    "\n",
    "test['pred4'] = clf_final.predict(preds)\n",
    "test['pred5'] = clf_final1.predict(preds)\n",
    "\n",
    "test['pred4']"
   ]
  },
  {
   "cell_type": "code",
   "execution_count": 33,
   "id": "67d3538b-946e-4691-a5c2-d19dbff6875b",
   "metadata": {},
   "outputs": [],
   "source": [
    "pd.Series(test['pred4'], index=test.index).to_csv('../preds/pred4.csv')\n",
    "pd.Series(test['pred5'], index=test.index).to_csv('../preds/pred5.csv')"
   ]
  }
 ],
 "metadata": {
  "kernelspec": {
   "display_name": "Python 3 (ipykernel)",
   "language": "python",
   "name": "python3"
  },
  "language_info": {
   "codemirror_mode": {
    "name": "ipython",
    "version": 3
   },
   "file_extension": ".py",
   "mimetype": "text/x-python",
   "name": "python",
   "nbconvert_exporter": "python",
   "pygments_lexer": "ipython3",
   "version": "3.10.9"
  }
 },
 "nbformat": 4,
 "nbformat_minor": 5
}
