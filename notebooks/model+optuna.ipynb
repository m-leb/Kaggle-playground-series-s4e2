{
 "cells": [
  {
   "cell_type": "code",
   "execution_count": 1,
   "id": "f43c8eba-1d20-4174-b89e-caa41a5a0d88",
   "metadata": {},
   "outputs": [],
   "source": [
    "import pandas as pd\n",
    "import numpy as np\n",
    "from sklearn.model_selection import train_test_split\n",
    "from sklearn.metrics import accuracy_score\n",
    "from catboost import CatBoostClassifier, Pool\n",
    "from tqdm import tqdm\n",
    "import optuna\n",
    "\n",
    "from utility import make_BMI"
   ]
  },
  {
   "cell_type": "code",
   "execution_count": 2,
   "id": "8c05dfbe-a69a-4646-962d-85def2b041a9",
   "metadata": {},
   "outputs": [
    {
     "data": {
      "text/html": [
       "<div>\n",
       "<style scoped>\n",
       "    .dataframe tbody tr th:only-of-type {\n",
       "        vertical-align: middle;\n",
       "    }\n",
       "\n",
       "    .dataframe tbody tr th {\n",
       "        vertical-align: top;\n",
       "    }\n",
       "\n",
       "    .dataframe thead th {\n",
       "        text-align: right;\n",
       "    }\n",
       "</style>\n",
       "<table border=\"1\" class=\"dataframe\">\n",
       "  <thead>\n",
       "    <tr style=\"text-align: right;\">\n",
       "      <th></th>\n",
       "      <th>Gender</th>\n",
       "      <th>Age</th>\n",
       "      <th>Height</th>\n",
       "      <th>Weight</th>\n",
       "      <th>family_history_with_overweight</th>\n",
       "      <th>FAVC</th>\n",
       "      <th>FCVC</th>\n",
       "      <th>NCP</th>\n",
       "      <th>CAEC</th>\n",
       "      <th>SMOKE</th>\n",
       "      <th>CH2O</th>\n",
       "      <th>SCC</th>\n",
       "      <th>FAF</th>\n",
       "      <th>TUE</th>\n",
       "      <th>CALC</th>\n",
       "      <th>MTRANS</th>\n",
       "      <th>NObeyesdad</th>\n",
       "    </tr>\n",
       "    <tr>\n",
       "      <th>id</th>\n",
       "      <th></th>\n",
       "      <th></th>\n",
       "      <th></th>\n",
       "      <th></th>\n",
       "      <th></th>\n",
       "      <th></th>\n",
       "      <th></th>\n",
       "      <th></th>\n",
       "      <th></th>\n",
       "      <th></th>\n",
       "      <th></th>\n",
       "      <th></th>\n",
       "      <th></th>\n",
       "      <th></th>\n",
       "      <th></th>\n",
       "      <th></th>\n",
       "      <th></th>\n",
       "    </tr>\n",
       "  </thead>\n",
       "  <tbody>\n",
       "    <tr>\n",
       "      <th>0</th>\n",
       "      <td>Male</td>\n",
       "      <td>24.443011</td>\n",
       "      <td>1.699998</td>\n",
       "      <td>81.669950</td>\n",
       "      <td>yes</td>\n",
       "      <td>yes</td>\n",
       "      <td>2.000000</td>\n",
       "      <td>2.983297</td>\n",
       "      <td>Sometimes</td>\n",
       "      <td>no</td>\n",
       "      <td>2.763573</td>\n",
       "      <td>no</td>\n",
       "      <td>0.000000</td>\n",
       "      <td>0.976473</td>\n",
       "      <td>Sometimes</td>\n",
       "      <td>Public_Transportation</td>\n",
       "      <td>Overweight_Level_II</td>\n",
       "    </tr>\n",
       "    <tr>\n",
       "      <th>1</th>\n",
       "      <td>Female</td>\n",
       "      <td>18.000000</td>\n",
       "      <td>1.560000</td>\n",
       "      <td>57.000000</td>\n",
       "      <td>yes</td>\n",
       "      <td>yes</td>\n",
       "      <td>2.000000</td>\n",
       "      <td>3.000000</td>\n",
       "      <td>Frequently</td>\n",
       "      <td>no</td>\n",
       "      <td>2.000000</td>\n",
       "      <td>no</td>\n",
       "      <td>1.000000</td>\n",
       "      <td>1.000000</td>\n",
       "      <td>no</td>\n",
       "      <td>Automobile</td>\n",
       "      <td>Normal_Weight</td>\n",
       "    </tr>\n",
       "    <tr>\n",
       "      <th>2</th>\n",
       "      <td>Female</td>\n",
       "      <td>18.000000</td>\n",
       "      <td>1.711460</td>\n",
       "      <td>50.165754</td>\n",
       "      <td>yes</td>\n",
       "      <td>yes</td>\n",
       "      <td>1.880534</td>\n",
       "      <td>1.411685</td>\n",
       "      <td>Sometimes</td>\n",
       "      <td>no</td>\n",
       "      <td>1.910378</td>\n",
       "      <td>no</td>\n",
       "      <td>0.866045</td>\n",
       "      <td>1.673584</td>\n",
       "      <td>no</td>\n",
       "      <td>Public_Transportation</td>\n",
       "      <td>Insufficient_Weight</td>\n",
       "    </tr>\n",
       "    <tr>\n",
       "      <th>3</th>\n",
       "      <td>Female</td>\n",
       "      <td>20.952737</td>\n",
       "      <td>1.710730</td>\n",
       "      <td>131.274851</td>\n",
       "      <td>yes</td>\n",
       "      <td>yes</td>\n",
       "      <td>3.000000</td>\n",
       "      <td>3.000000</td>\n",
       "      <td>Sometimes</td>\n",
       "      <td>no</td>\n",
       "      <td>1.674061</td>\n",
       "      <td>no</td>\n",
       "      <td>1.467863</td>\n",
       "      <td>0.780199</td>\n",
       "      <td>Sometimes</td>\n",
       "      <td>Public_Transportation</td>\n",
       "      <td>Obesity_Type_III</td>\n",
       "    </tr>\n",
       "    <tr>\n",
       "      <th>4</th>\n",
       "      <td>Male</td>\n",
       "      <td>31.641081</td>\n",
       "      <td>1.914186</td>\n",
       "      <td>93.798055</td>\n",
       "      <td>yes</td>\n",
       "      <td>yes</td>\n",
       "      <td>2.679664</td>\n",
       "      <td>1.971472</td>\n",
       "      <td>Sometimes</td>\n",
       "      <td>no</td>\n",
       "      <td>1.979848</td>\n",
       "      <td>no</td>\n",
       "      <td>1.967973</td>\n",
       "      <td>0.931721</td>\n",
       "      <td>Sometimes</td>\n",
       "      <td>Public_Transportation</td>\n",
       "      <td>Overweight_Level_II</td>\n",
       "    </tr>\n",
       "  </tbody>\n",
       "</table>\n",
       "</div>"
      ],
      "text/plain": [
       "    Gender        Age    Height      Weight family_history_with_overweight  \\\n",
       "id                                                                           \n",
       "0     Male  24.443011  1.699998   81.669950                            yes   \n",
       "1   Female  18.000000  1.560000   57.000000                            yes   \n",
       "2   Female  18.000000  1.711460   50.165754                            yes   \n",
       "3   Female  20.952737  1.710730  131.274851                            yes   \n",
       "4     Male  31.641081  1.914186   93.798055                            yes   \n",
       "\n",
       "   FAVC      FCVC       NCP        CAEC SMOKE      CH2O SCC       FAF  \\\n",
       "id                                                                      \n",
       "0   yes  2.000000  2.983297   Sometimes    no  2.763573  no  0.000000   \n",
       "1   yes  2.000000  3.000000  Frequently    no  2.000000  no  1.000000   \n",
       "2   yes  1.880534  1.411685   Sometimes    no  1.910378  no  0.866045   \n",
       "3   yes  3.000000  3.000000   Sometimes    no  1.674061  no  1.467863   \n",
       "4   yes  2.679664  1.971472   Sometimes    no  1.979848  no  1.967973   \n",
       "\n",
       "         TUE       CALC                 MTRANS           NObeyesdad  \n",
       "id                                                                   \n",
       "0   0.976473  Sometimes  Public_Transportation  Overweight_Level_II  \n",
       "1   1.000000         no             Automobile        Normal_Weight  \n",
       "2   1.673584         no  Public_Transportation  Insufficient_Weight  \n",
       "3   0.780199  Sometimes  Public_Transportation     Obesity_Type_III  \n",
       "4   0.931721  Sometimes  Public_Transportation  Overweight_Level_II  "
      ]
     },
     "execution_count": 2,
     "metadata": {},
     "output_type": "execute_result"
    }
   ],
   "source": [
    "data = pd.read_csv('../data/train.csv', index_col='id')\n",
    "\n",
    "data.head()"
   ]
  },
  {
   "cell_type": "code",
   "execution_count": 3,
   "id": "f9f4e2d0-fa2f-4cd8-ba65-5527bab94fac",
   "metadata": {},
   "outputs": [],
   "source": [
    "data['BMI'] = make_BMI(data)\n",
    "group_1 = ['Normal_Weight', 'Overweight_Level_I']\n",
    "group_2 = ['Overweight_Level_II', 'Obesity_Type_I']\n",
    "data['NObeyesdad'] = data['NObeyesdad'].apply(lambda x: 'group_1' if x in group_1 else x)\n",
    "data['NObeyesdad'] = data['NObeyesdad'].apply(lambda x: 'group_2' if x in group_2 else x)"
   ]
  },
  {
   "cell_type": "code",
   "execution_count": 4,
   "id": "17f00213-cc4f-46b5-b178-6c787be7c061",
   "metadata": {
    "tags": []
   },
   "outputs": [],
   "source": [
    "def objective(trial):\n",
    "    X_train, X_valid, y_train, y_valid = train_test_split(\n",
    "        data.drop(['NObeyesdad'], axis=1),\n",
    "        data['NObeyesdad'],\n",
    "        test_size=0.20,\n",
    "        shuffle=True\n",
    "    )\n",
    "\n",
    "    param = {\n",
    "        \"colsample_bylevel\": trial.suggest_float(\"colsample_bylevel\", 0.01, 0.1),\n",
    "        \"depth\": trial.suggest_int(\"depth\", 1, 12),\n",
    "        \"boosting_type\": trial.suggest_categorical(\"boosting_type\", [\"Ordered\", \"Plain\"]),\n",
    "        \"bootstrap_type\": trial.suggest_categorical(\n",
    "            \"bootstrap_type\", [\"Bayesian\", \"Bernoulli\", \"MVS\"]\n",
    "        ),\n",
    "        \"learning_rate\": trial.suggest_float(\"learning_rate\", 1e-3, 0.1, log=True),\n",
    "        \"min_data_in_leaf\": trial.suggest_int(\"min_data_in_leaf\", 1, 100)\n",
    "    }\n",
    "\n",
    "    if param[\"bootstrap_type\"] == \"Bayesian\":\n",
    "        param[\"bagging_temperature\"] = trial.suggest_float(\"bagging_temperature\", 0, 10)\n",
    "    elif param[\"bootstrap_type\"] == \"Bernoulli\":\n",
    "        param[\"subsample\"] = trial.suggest_float(\"subsample\", 0.1, 1)\n",
    "\n",
    "    cat = ['CAEC', 'CALC', 'MTRANS', 'Gender','family_history_with_overweight','FAVC', 'SMOKE', 'SCC']\n",
    "    \n",
    "    clf = CatBoostClassifier(**param, iterations=1200, logging_level='Silent')\n",
    "    train = Pool(X_train, y_train, cat_features=cat)\n",
    "    valid = Pool(X_valid, y_valid, cat_features=cat)\n",
    "\n",
    "    clf.fit(train, eval_set=valid, verbose=False, early_stopping_rounds=100)\n",
    "\n",
    "    accuracy = accuracy_score(y_valid, clf.predict(X_valid))\n",
    "    return accuracy"
   ]
  },
  {
   "cell_type": "code",
   "execution_count": 5,
   "id": "a420e9b9-db23-488b-9114-cc08e9283b46",
   "metadata": {},
   "outputs": [
    {
     "name": "stderr",
     "output_type": "stream",
     "text": [
      "[I 2024-03-03 18:11:05,648] A new study created in memory with name: no-name-4275a77a-b9f1-494d-a5c1-daa290976d8f\n",
      "[I 2024-03-03 18:11:11,473] Trial 0 finished with value: 0.9325626204238922 and parameters: {'colsample_bylevel': 0.037918961338759466, 'depth': 1, 'boosting_type': 'Plain', 'bootstrap_type': 'Bernoulli', 'learning_rate': 0.08609592768400551, 'min_data_in_leaf': 69, 'subsample': 0.3914819170886671}. Best is trial 0 with value: 0.9325626204238922.\n",
      "[I 2024-03-03 18:12:23,895] Trial 1 finished with value: 0.9311175337186898 and parameters: {'colsample_bylevel': 0.0765957508148663, 'depth': 9, 'boosting_type': 'Ordered', 'bootstrap_type': 'Bernoulli', 'learning_rate': 0.01667454639798476, 'min_data_in_leaf': 82, 'subsample': 0.5960643282810605}. Best is trial 0 with value: 0.9325626204238922.\n",
      "[I 2024-03-03 18:15:12,124] Trial 2 finished with value: 0.9241329479768786 and parameters: {'colsample_bylevel': 0.09739980903922457, 'depth': 10, 'boosting_type': 'Ordered', 'bootstrap_type': 'Bernoulli', 'learning_rate': 0.00381193008197055, 'min_data_in_leaf': 3, 'subsample': 0.5100109348274482}. Best is trial 0 with value: 0.9325626204238922.\n",
      "[I 2024-03-03 18:15:36,400] Trial 3 finished with value: 0.7704720616570327 and parameters: {'colsample_bylevel': 0.038078061237700224, 'depth': 3, 'boosting_type': 'Ordered', 'bootstrap_type': 'Bayesian', 'learning_rate': 0.002040935322850726, 'min_data_in_leaf': 51, 'bagging_temperature': 7.441289301179337}. Best is trial 0 with value: 0.9325626204238922.\n",
      "[I 2024-03-03 18:15:42,947] Trial 4 finished with value: 0.7796242774566474 and parameters: {'colsample_bylevel': 0.030807514669849573, 'depth': 3, 'boosting_type': 'Plain', 'bootstrap_type': 'MVS', 'learning_rate': 0.0024915086881645058, 'min_data_in_leaf': 70}. Best is trial 0 with value: 0.9325626204238922.\n",
      "[I 2024-03-03 18:15:50,865] Trial 5 finished with value: 0.8978805394990366 and parameters: {'colsample_bylevel': 0.04519908317082225, 'depth': 4, 'boosting_type': 'Plain', 'bootstrap_type': 'MVS', 'learning_rate': 0.006205902241208685, 'min_data_in_leaf': 91}. Best is trial 0 with value: 0.9325626204238922.\n",
      "[I 2024-03-03 18:16:00,083] Trial 6 finished with value: 0.9263005780346821 and parameters: {'colsample_bylevel': 0.05490035101036074, 'depth': 7, 'boosting_type': 'Plain', 'bootstrap_type': 'Bayesian', 'learning_rate': 0.04210915889451082, 'min_data_in_leaf': 52, 'bagging_temperature': 1.6524153695408528}. Best is trial 0 with value: 0.9325626204238922.\n",
      "[I 2024-03-03 18:16:53,334] Trial 7 finished with value: 0.8911368015414258 and parameters: {'colsample_bylevel': 0.06054256137717477, 'depth': 10, 'boosting_type': 'Ordered', 'bootstrap_type': 'Bayesian', 'learning_rate': 0.0029675675174560684, 'min_data_in_leaf': 65, 'bagging_temperature': 7.401604451982674}. Best is trial 0 with value: 0.9325626204238922.\n",
      "[I 2024-03-03 18:17:09,669] Trial 8 finished with value: 0.9332851637764933 and parameters: {'colsample_bylevel': 0.05618123299031021, 'depth': 12, 'boosting_type': 'Plain', 'bootstrap_type': 'Bayesian', 'learning_rate': 0.08613534049069958, 'min_data_in_leaf': 79, 'bagging_temperature': 6.780696789977511}. Best is trial 8 with value: 0.9332851637764933.\n",
      "[I 2024-03-03 18:17:34,031] Trial 9 finished with value: 0.7654142581888247 and parameters: {'colsample_bylevel': 0.030707525499746917, 'depth': 8, 'boosting_type': 'Ordered', 'bootstrap_type': 'MVS', 'learning_rate': 0.0010225214310399138, 'min_data_in_leaf': 25}. Best is trial 8 with value: 0.9332851637764933.\n",
      "[I 2024-03-03 18:17:39,599] Trial 10 finished with value: 0.8778901734104047 and parameters: {'colsample_bylevel': 0.017082649638861913, 'depth': 12, 'boosting_type': 'Plain', 'bootstrap_type': 'Bayesian', 'learning_rate': 0.018437872094706372, 'min_data_in_leaf': 99, 'bagging_temperature': 3.5861293275469213}. Best is trial 8 with value: 0.9332851637764933.\n",
      "[I 2024-03-03 18:17:45,562] Trial 11 finished with value: 0.9318400770712909 and parameters: {'colsample_bylevel': 0.06950717462437034, 'depth': 1, 'boosting_type': 'Plain', 'bootstrap_type': 'Bernoulli', 'learning_rate': 0.08242960441644713, 'min_data_in_leaf': 76, 'subsample': 0.19536779461485104}. Best is trial 8 with value: 0.9332851637764933.\n",
      "[I 2024-03-03 18:17:51,264] Trial 12 finished with value: 0.9152215799614644 and parameters: {'colsample_bylevel': 0.014077459979289421, 'depth': 5, 'boosting_type': 'Plain', 'bootstrap_type': 'Bernoulli', 'learning_rate': 0.0957333280015511, 'min_data_in_leaf': 31, 'subsample': 0.9796557963622299}. Best is trial 8 with value: 0.9332851637764933.\n",
      "[I 2024-03-03 18:18:43,774] Trial 13 finished with value: 0.9426782273603083 and parameters: {'colsample_bylevel': 0.07756904546131699, 'depth': 12, 'boosting_type': 'Plain', 'bootstrap_type': 'Bernoulli', 'learning_rate': 0.03959067593716367, 'min_data_in_leaf': 61, 'subsample': 0.2397278976336545}. Best is trial 13 with value: 0.9426782273603083.\n",
      "[I 2024-03-03 18:20:00,909] Trial 14 finished with value: 0.933766859344894 and parameters: {'colsample_bylevel': 0.08625965928821543, 'depth': 12, 'boosting_type': 'Plain', 'bootstrap_type': 'Bayesian', 'learning_rate': 0.03646818901135514, 'min_data_in_leaf': 38, 'bagging_temperature': 9.76601243758776}. Best is trial 13 with value: 0.9426782273603083.\n",
      "[I 2024-03-03 18:20:59,467] Trial 15 finished with value: 0.9361753371868978 and parameters: {'colsample_bylevel': 0.08933161436367187, 'depth': 11, 'boosting_type': 'Plain', 'bootstrap_type': 'Bayesian', 'learning_rate': 0.03352356861050416, 'min_data_in_leaf': 34, 'bagging_temperature': 9.778853064621922}. Best is trial 13 with value: 0.9426782273603083.\n",
      "[I 2024-03-03 18:21:53,179] Trial 16 finished with value: 0.9426782273603083 and parameters: {'colsample_bylevel': 0.09898844213645895, 'depth': 10, 'boosting_type': 'Plain', 'bootstrap_type': 'Bernoulli', 'learning_rate': 0.03257706684558758, 'min_data_in_leaf': 13, 'subsample': 0.16049030061391228}. Best is trial 13 with value: 0.9426782273603083.\n"
     ]
    }
   ],
   "source": [
    "study = optuna.create_study(direction=\"maximize\")\n",
    "study.optimize(objective, n_trials=50, timeout=600)"
   ]
  },
  {
   "cell_type": "code",
   "execution_count": 6,
   "id": "6447ef77-4365-4354-b114-2dfd7187e30a",
   "metadata": {},
   "outputs": [
    {
     "name": "stdout",
     "output_type": "stream",
     "text": [
      "Best hyperparameters: {'colsample_bylevel': 0.07756904546131699, 'depth': 12, 'boosting_type': 'Plain', 'bootstrap_type': 'Bernoulli', 'learning_rate': 0.03959067593716367, 'min_data_in_leaf': 61, 'subsample': 0.2397278976336545}\n",
      "Best Accuracy: 0.9426782273603083\n"
     ]
    }
   ],
   "source": [
    "print('Best hyperparameters:', study.best_params)\n",
    "print('Best Accuracy:', study.best_value)"
   ]
  },
  {
   "cell_type": "code",
   "execution_count": 7,
   "id": "024578d9-0a97-486c-a8fa-db306161f2d3",
   "metadata": {},
   "outputs": [],
   "source": [
    "data = pd.read_csv('../data/train.csv', index_col='id')\n",
    "data['BMI'] = make_BMI(data)\n",
    "\n",
    "group_1 = ['Normal_Weight', 'Overweight_Level_I']\n",
    "group_2 = ['Overweight_Level_II', 'Obesity_Type_I']\n",
    "\n",
    "data1 = data[data['NObeyesdad'].isin(group_1)]\n",
    "data2 = data[data['NObeyesdad'].isin(group_2)]"
   ]
  },
  {
   "cell_type": "code",
   "execution_count": 8,
   "id": "1b838e1d-3609-4eca-b0b5-d550df854082",
   "metadata": {},
   "outputs": [],
   "source": [
    "def objective1(trial):\n",
    "    X_train, X_valid, y_train, y_valid = train_test_split(\n",
    "        data1.drop(['NObeyesdad'], axis=1),\n",
    "        data1['NObeyesdad'],\n",
    "        test_size=0.20,\n",
    "        shuffle=True\n",
    "    )\n",
    "\n",
    "    param = {\n",
    "        \"colsample_bylevel\": trial.suggest_float(\"colsample_bylevel\", 0.01, 0.1),\n",
    "        \"depth\": trial.suggest_int(\"depth\", 1, 12),\n",
    "        \"boosting_type\": trial.suggest_categorical(\"boosting_type\", [\"Ordered\", \"Plain\"]),\n",
    "        \"bootstrap_type\": trial.suggest_categorical(\n",
    "            \"bootstrap_type\", [\"Bayesian\", \"Bernoulli\", \"MVS\"]\n",
    "        ),\n",
    "        \"learning_rate\": trial.suggest_float(\"learning_rate\", 1e-3, 0.1, log=True),\n",
    "        \"min_data_in_leaf\": trial.suggest_int(\"min_data_in_leaf\", 1, 100),\n",
    "        #\"used_ram_limit\": \"3gb\",\n",
    "    }\n",
    "\n",
    "    if param[\"bootstrap_type\"] == \"Bayesian\":\n",
    "        param[\"bagging_temperature\"] = trial.suggest_float(\"bagging_temperature\", 0, 10)\n",
    "    elif param[\"bootstrap_type\"] == \"Bernoulli\":\n",
    "        param[\"subsample\"] = trial.suggest_float(\"subsample\", 0.1, 1)\n",
    "\n",
    "    cat = ['CAEC', 'CALC', 'MTRANS', 'Gender','family_history_with_overweight','FAVC', 'SMOKE', 'SCC']\n",
    "    \n",
    "    clf = CatBoostClassifier(**param, iterations=1200, logging_level='Silent')\n",
    "    train = Pool(X_train, y_train, cat_features=cat)\n",
    "    valid = Pool(X_valid, y_valid, cat_features=cat)\n",
    "\n",
    "    clf.fit(train, eval_set=valid, verbose=False, early_stopping_rounds=100)\n",
    "\n",
    "    accuracy = accuracy_score(y_valid, clf.predict(X_valid))\n",
    "    return accuracy"
   ]
  },
  {
   "cell_type": "code",
   "execution_count": 9,
   "id": "0f5e2b4a-8249-4d55-b433-85469db26f1f",
   "metadata": {},
   "outputs": [
    {
     "name": "stderr",
     "output_type": "stream",
     "text": [
      "[I 2024-03-03 18:21:53,533] A new study created in memory with name: no-name-d3431733-b43c-4aa9-b450-8f8271c516e6\n",
      "[I 2024-03-03 18:22:17,160] Trial 0 finished with value: 0.9137931034482759 and parameters: {'colsample_bylevel': 0.0984579103126481, 'depth': 8, 'boosting_type': 'Ordered', 'bootstrap_type': 'Bernoulli', 'learning_rate': 0.0031328922055669033, 'min_data_in_leaf': 2, 'subsample': 0.2815735873803755}. Best is trial 0 with value: 0.9137931034482759.\n",
      "[I 2024-03-03 18:22:37,395] Trial 1 finished with value: 0.8901996370235935 and parameters: {'colsample_bylevel': 0.045112406831238794, 'depth': 10, 'boosting_type': 'Ordered', 'bootstrap_type': 'Bayesian', 'learning_rate': 0.0010434927693086936, 'min_data_in_leaf': 5, 'bagging_temperature': 7.023682712974014}. Best is trial 0 with value: 0.9137931034482759.\n",
      "[I 2024-03-03 18:22:45,662] Trial 2 finished with value: 0.9292196007259528 and parameters: {'colsample_bylevel': 0.058400339418249715, 'depth': 3, 'boosting_type': 'Plain', 'bootstrap_type': 'Bernoulli', 'learning_rate': 0.035024488383813855, 'min_data_in_leaf': 81, 'subsample': 0.4341611081135667}. Best is trial 2 with value: 0.9292196007259528.\n",
      "[I 2024-03-03 18:22:55,171] Trial 3 finished with value: 0.926497277676951 and parameters: {'colsample_bylevel': 0.09816581952589447, 'depth': 3, 'boosting_type': 'Plain', 'bootstrap_type': 'MVS', 'learning_rate': 0.006378140174089948, 'min_data_in_leaf': 67}. Best is trial 2 with value: 0.9292196007259528.\n",
      "[I 2024-03-03 18:23:21,923] Trial 4 finished with value: 0.9047186932849365 and parameters: {'colsample_bylevel': 0.0653723428053974, 'depth': 11, 'boosting_type': 'Ordered', 'bootstrap_type': 'Bernoulli', 'learning_rate': 0.004094118416702265, 'min_data_in_leaf': 33, 'subsample': 0.21660563775045297}. Best is trial 2 with value: 0.9292196007259528.\n",
      "[I 2024-03-03 18:23:29,550] Trial 5 finished with value: 0.9428312159709619 and parameters: {'colsample_bylevel': 0.03669469939326879, 'depth': 12, 'boosting_type': 'Plain', 'bootstrap_type': 'MVS', 'learning_rate': 0.0914272628386555, 'min_data_in_leaf': 73}. Best is trial 5 with value: 0.9428312159709619.\n",
      "[I 2024-03-03 18:23:43,888] Trial 6 finished with value: 0.9292196007259528 and parameters: {'colsample_bylevel': 0.024288252537312153, 'depth': 8, 'boosting_type': 'Ordered', 'bootstrap_type': 'MVS', 'learning_rate': 0.04865082681544374, 'min_data_in_leaf': 25}. Best is trial 5 with value: 0.9428312159709619.\n",
      "[I 2024-03-03 18:24:00,919] Trial 7 finished with value: 0.9274047186932849 and parameters: {'colsample_bylevel': 0.07975525698461187, 'depth': 4, 'boosting_type': 'Ordered', 'bootstrap_type': 'MVS', 'learning_rate': 0.019090325124839404, 'min_data_in_leaf': 73}. Best is trial 5 with value: 0.9428312159709619.\n",
      "[I 2024-03-03 18:24:45,035] Trial 8 finished with value: 0.925589836660617 and parameters: {'colsample_bylevel': 0.08863323844270597, 'depth': 10, 'boosting_type': 'Ordered', 'bootstrap_type': 'Bayesian', 'learning_rate': 0.005936727389650607, 'min_data_in_leaf': 77, 'bagging_temperature': 8.918325411106917}. Best is trial 5 with value: 0.9428312159709619.\n",
      "[I 2024-03-03 18:25:02,836] Trial 9 finished with value: 0.9183303085299456 and parameters: {'colsample_bylevel': 0.057297516272290516, 'depth': 9, 'boosting_type': 'Ordered', 'bootstrap_type': 'Bernoulli', 'learning_rate': 0.009372670170741863, 'min_data_in_leaf': 87, 'subsample': 0.7018278286393921}. Best is trial 5 with value: 0.9428312159709619.\n",
      "[I 2024-03-03 18:25:09,459] Trial 10 finished with value: 0.9210526315789473 and parameters: {'colsample_bylevel': 0.012962930716810993, 'depth': 12, 'boosting_type': 'Plain', 'bootstrap_type': 'MVS', 'learning_rate': 0.09468252363414624, 'min_data_in_leaf': 99}. Best is trial 5 with value: 0.9428312159709619.\n",
      "[I 2024-03-03 18:25:18,392] Trial 11 finished with value: 0.9165154264972777 and parameters: {'colsample_bylevel': 0.03909298116121106, 'depth': 6, 'boosting_type': 'Plain', 'bootstrap_type': 'Bernoulli', 'learning_rate': 0.030080962121665725, 'min_data_in_leaf': 57, 'subsample': 0.9400659063576862}. Best is trial 5 with value: 0.9428312159709619.\n",
      "[I 2024-03-03 18:25:26,065] Trial 12 finished with value: 0.911978221415608 and parameters: {'colsample_bylevel': 0.035421024146097616, 'depth': 1, 'boosting_type': 'Plain', 'bootstrap_type': 'MVS', 'learning_rate': 0.09788291019814245, 'min_data_in_leaf': 45}. Best is trial 5 with value: 0.9428312159709619.\n",
      "[I 2024-03-03 18:25:34,379] Trial 13 finished with value: 0.9183303085299456 and parameters: {'colsample_bylevel': 0.06561828962792733, 'depth': 5, 'boosting_type': 'Plain', 'bootstrap_type': 'Bernoulli', 'learning_rate': 0.04148509940191923, 'min_data_in_leaf': 96, 'subsample': 0.49772496550938267}. Best is trial 5 with value: 0.9428312159709619.\n",
      "[I 2024-03-03 18:25:42,765] Trial 14 finished with value: 0.9210526315789473 and parameters: {'colsample_bylevel': 0.05099631955477567, 'depth': 2, 'boosting_type': 'Plain', 'bootstrap_type': 'Bayesian', 'learning_rate': 0.01859811211898028, 'min_data_in_leaf': 59, 'bagging_temperature': 0.07204957960421776}. Best is trial 5 with value: 0.9428312159709619.\n",
      "[I 2024-03-03 18:25:51,063] Trial 15 finished with value: 0.9183303085299456 and parameters: {'colsample_bylevel': 0.03068325054357826, 'depth': 6, 'boosting_type': 'Plain', 'bootstrap_type': 'MVS', 'learning_rate': 0.059415849155975316, 'min_data_in_leaf': 82}. Best is trial 5 with value: 0.9428312159709619.\n",
      "[I 2024-03-03 18:26:00,738] Trial 16 finished with value: 0.9301270417422868 and parameters: {'colsample_bylevel': 0.07420439085631304, 'depth': 4, 'boosting_type': 'Plain', 'bootstrap_type': 'Bernoulli', 'learning_rate': 0.019217447413100518, 'min_data_in_leaf': 43, 'subsample': 0.4845884362618267}. Best is trial 5 with value: 0.9428312159709619.\n",
      "[I 2024-03-03 18:26:19,033] Trial 17 finished with value: 0.911070780399274 and parameters: {'colsample_bylevel': 0.07312316588247694, 'depth': 12, 'boosting_type': 'Plain', 'bootstrap_type': 'MVS', 'learning_rate': 0.01806124712836803, 'min_data_in_leaf': 43}. Best is trial 5 with value: 0.9428312159709619.\n",
      "[I 2024-03-03 18:26:26,615] Trial 18 finished with value: 0.7894736842105263 and parameters: {'colsample_bylevel': 0.015885098435000182, 'depth': 7, 'boosting_type': 'Plain', 'bootstrap_type': 'Bernoulli', 'learning_rate': 0.0019116449108423244, 'min_data_in_leaf': 24, 'subsample': 0.7323787668683925}. Best is trial 5 with value: 0.9428312159709619.\n",
      "[I 2024-03-03 18:26:36,197] Trial 19 finished with value: 0.9301270417422868 and parameters: {'colsample_bylevel': 0.08241125232758438, 'depth': 5, 'boosting_type': 'Plain', 'bootstrap_type': 'Bayesian', 'learning_rate': 0.010872216341063617, 'min_data_in_leaf': 63, 'bagging_temperature': 2.3097693305021307}. Best is trial 5 with value: 0.9428312159709619.\n",
      "[I 2024-03-03 18:26:43,805] Trial 20 finished with value: 0.9128856624319419 and parameters: {'colsample_bylevel': 0.047469998055493415, 'depth': 1, 'boosting_type': 'Plain', 'bootstrap_type': 'MVS', 'learning_rate': 0.025123921862420018, 'min_data_in_leaf': 48}. Best is trial 5 with value: 0.9428312159709619.\n",
      "[I 2024-03-03 18:26:53,231] Trial 21 finished with value: 0.9101633393829401 and parameters: {'colsample_bylevel': 0.08276065446752262, 'depth': 5, 'boosting_type': 'Plain', 'bootstrap_type': 'Bayesian', 'learning_rate': 0.011365254970826496, 'min_data_in_leaf': 66, 'bagging_temperature': 2.4164691737018718}. Best is trial 5 with value: 0.9428312159709619.\n",
      "[I 2024-03-03 18:27:01,629] Trial 22 finished with value: 0.911070780399274 and parameters: {'colsample_bylevel': 0.07206635748357805, 'depth': 4, 'boosting_type': 'Plain', 'bootstrap_type': 'Bayesian', 'learning_rate': 0.011283320149401884, 'min_data_in_leaf': 57, 'bagging_temperature': 4.109193066200551}. Best is trial 5 with value: 0.9428312159709619.\n",
      "[I 2024-03-03 18:27:08,555] Trial 23 finished with value: 0.9165154264972777 and parameters: {'colsample_bylevel': 0.08463458490839948, 'depth': 5, 'boosting_type': 'Plain', 'bootstrap_type': 'Bayesian', 'learning_rate': 0.06480712313955984, 'min_data_in_leaf': 67, 'bagging_temperature': 1.5001539584247814}. Best is trial 5 with value: 0.9428312159709619.\n",
      "[I 2024-03-03 18:27:20,048] Trial 24 finished with value: 0.9228675136116152 and parameters: {'colsample_bylevel': 0.09070208378234798, 'depth': 7, 'boosting_type': 'Plain', 'bootstrap_type': 'Bayesian', 'learning_rate': 0.008212334250724934, 'min_data_in_leaf': 90, 'bagging_temperature': 5.001888028398838}. Best is trial 5 with value: 0.9428312159709619.\n",
      "[I 2024-03-03 18:27:29,336] Trial 25 finished with value: 0.9219600725952813 and parameters: {'colsample_bylevel': 0.0746485295452414, 'depth': 3, 'boosting_type': 'Plain', 'bootstrap_type': 'Bayesian', 'learning_rate': 0.015387770820570806, 'min_data_in_leaf': 32, 'bagging_temperature': 4.383244318077943}. Best is trial 5 with value: 0.9428312159709619.\n",
      "[I 2024-03-03 18:27:37,255] Trial 26 finished with value: 0.9156079854809437 and parameters: {'colsample_bylevel': 0.06325902571907871, 'depth': 4, 'boosting_type': 'Plain', 'bootstrap_type': 'Bernoulli', 'learning_rate': 0.0032089043000825303, 'min_data_in_leaf': 38, 'subsample': 0.10077119562465858}. Best is trial 5 with value: 0.9428312159709619.\n",
      "[I 2024-03-03 18:27:44,051] Trial 27 finished with value: 0.9274047186932849 and parameters: {'colsample_bylevel': 0.022159816287804647, 'depth': 8, 'boosting_type': 'Plain', 'bootstrap_type': 'MVS', 'learning_rate': 0.023047301635998337, 'min_data_in_leaf': 54}. Best is trial 5 with value: 0.9428312159709619.\n",
      "[I 2024-03-03 18:27:52,653] Trial 28 finished with value: 0.896551724137931 and parameters: {'colsample_bylevel': 0.04274546924407567, 'depth': 6, 'boosting_type': 'Plain', 'bootstrap_type': 'Bernoulli', 'learning_rate': 0.005203376732956255, 'min_data_in_leaf': 18, 'subsample': 0.6651718479847216}. Best is trial 5 with value: 0.9428312159709619.\n",
      "[I 2024-03-03 18:28:07,175] Trial 29 finished with value: 0.9083484573502723 and parameters: {'colsample_bylevel': 0.09174632702373564, 'depth': 9, 'boosting_type': 'Plain', 'bootstrap_type': 'Bayesian', 'learning_rate': 0.0018375156171738201, 'min_data_in_leaf': 74, 'bagging_temperature': 2.280357458261139}. Best is trial 5 with value: 0.9428312159709619.\n",
      "[I 2024-03-03 18:28:15,523] Trial 30 finished with value: 0.9283121597096189 and parameters: {'colsample_bylevel': 0.09752876581653624, 'depth': 2, 'boosting_type': 'Plain', 'bootstrap_type': 'Bernoulli', 'learning_rate': 0.013674545956015206, 'min_data_in_leaf': 62, 'subsample': 0.9761251599594339}. Best is trial 5 with value: 0.9428312159709619.\n",
      "[I 2024-03-03 18:28:23,389] Trial 31 finished with value: 0.9137931034482759 and parameters: {'colsample_bylevel': 0.056535626722740054, 'depth': 3, 'boosting_type': 'Plain', 'bootstrap_type': 'Bernoulli', 'learning_rate': 0.0349303030716162, 'min_data_in_leaf': 80, 'subsample': 0.43694399396385863}. Best is trial 5 with value: 0.9428312159709619.\n",
      "[I 2024-03-03 18:28:30,907] Trial 32 finished with value: 0.9192377495462795 and parameters: {'colsample_bylevel': 0.05995124989424856, 'depth': 2, 'boosting_type': 'Plain', 'bootstrap_type': 'Bernoulli', 'learning_rate': 0.06906709434030682, 'min_data_in_leaf': 71, 'subsample': 0.3841637290783997}. Best is trial 5 with value: 0.9428312159709619.\n",
      "[I 2024-03-03 18:28:39,832] Trial 33 finished with value: 0.9319419237749547 and parameters: {'colsample_bylevel': 0.05291879231355401, 'depth': 4, 'boosting_type': 'Plain', 'bootstrap_type': 'Bernoulli', 'learning_rate': 0.03365038602871111, 'min_data_in_leaf': 84, 'subsample': 0.5904281939426866}. Best is trial 5 with value: 0.9428312159709619.\n",
      "[I 2024-03-03 18:28:48,186] Trial 34 finished with value: 0.9165154264972777 and parameters: {'colsample_bylevel': 0.05210295022501621, 'depth': 5, 'boosting_type': 'Plain', 'bootstrap_type': 'Bernoulli', 'learning_rate': 0.02705397947700187, 'min_data_in_leaf': 90, 'subsample': 0.5959256411889421}. Best is trial 5 with value: 0.9428312159709619.\n",
      "[I 2024-03-03 18:29:02,792] Trial 35 finished with value: 0.9147005444646098 and parameters: {'colsample_bylevel': 0.07660446559679096, 'depth': 4, 'boosting_type': 'Ordered', 'bootstrap_type': 'Bernoulli', 'learning_rate': 0.04833919796583312, 'min_data_in_leaf': 52, 'subsample': 0.8254220438902535}. Best is trial 5 with value: 0.9428312159709619.\n",
      "[I 2024-03-03 18:29:13,739] Trial 36 finished with value: 0.9147005444646098 and parameters: {'colsample_bylevel': 0.06933973458880754, 'depth': 7, 'boosting_type': 'Plain', 'bootstrap_type': 'Bernoulli', 'learning_rate': 0.006976447315193118, 'min_data_in_leaf': 10, 'subsample': 0.5630604544241016}. Best is trial 5 with value: 0.9428312159709619.\n",
      "[I 2024-03-03 18:29:28,807] Trial 37 finished with value: 0.9328493647912885 and parameters: {'colsample_bylevel': 0.034720570585021884, 'depth': 4, 'boosting_type': 'Ordered', 'bootstrap_type': 'MVS', 'learning_rate': 0.014158394102748979, 'min_data_in_leaf': 86}. Best is trial 5 with value: 0.9428312159709619.\n",
      "[I 2024-03-03 18:29:40,983] Trial 38 finished with value: 0.9373865698729582 and parameters: {'colsample_bylevel': 0.031029975097507947, 'depth': 11, 'boosting_type': 'Ordered', 'bootstrap_type': 'MVS', 'learning_rate': 0.03838334693526729, 'min_data_in_leaf': 83}. Best is trial 5 with value: 0.9428312159709619.\n",
      "[I 2024-03-03 18:29:54,512] Trial 39 finished with value: 0.9128856624319419 and parameters: {'colsample_bylevel': 0.028429567125149276, 'depth': 11, 'boosting_type': 'Ordered', 'bootstrap_type': 'MVS', 'learning_rate': 0.03824000301047344, 'min_data_in_leaf': 85}. Best is trial 5 with value: 0.9428312159709619.\n",
      "[I 2024-03-03 18:30:08,424] Trial 40 finished with value: 0.9156079854809437 and parameters: {'colsample_bylevel': 0.036002960204609816, 'depth': 11, 'boosting_type': 'Ordered', 'bootstrap_type': 'MVS', 'learning_rate': 0.050510768701241784, 'min_data_in_leaf': 96}. Best is trial 5 with value: 0.9428312159709619.\n",
      "[I 2024-03-03 18:30:25,427] Trial 41 finished with value: 0.9274047186932849 and parameters: {'colsample_bylevel': 0.043207915579338174, 'depth': 12, 'boosting_type': 'Ordered', 'bootstrap_type': 'MVS', 'learning_rate': 0.07392643317682024, 'min_data_in_leaf': 91}. Best is trial 5 with value: 0.9428312159709619.\n",
      "[I 2024-03-03 18:30:37,053] Trial 42 finished with value: 0.9201451905626135 and parameters: {'colsample_bylevel': 0.024209589527267407, 'depth': 10, 'boosting_type': 'Ordered', 'bootstrap_type': 'MVS', 'learning_rate': 0.03172587480215326, 'min_data_in_leaf': 77}. Best is trial 5 with value: 0.9428312159709619.\n",
      "[I 2024-03-03 18:30:50,931] Trial 43 finished with value: 0.9174228675136116 and parameters: {'colsample_bylevel': 0.030151516419740888, 'depth': 9, 'boosting_type': 'Ordered', 'bootstrap_type': 'MVS', 'learning_rate': 0.023748411662761846, 'min_data_in_leaf': 85}. Best is trial 5 with value: 0.9428312159709619.\n",
      "[I 2024-03-03 18:31:04,100] Trial 44 finished with value: 0.9237749546279492 and parameters: {'colsample_bylevel': 0.01899124920130931, 'depth': 10, 'boosting_type': 'Ordered', 'bootstrap_type': 'MVS', 'learning_rate': 0.015520288071177106, 'min_data_in_leaf': 71}. Best is trial 5 with value: 0.9428312159709619.\n",
      "[I 2024-03-03 18:31:16,624] Trial 45 finished with value: 0.9201451905626135 and parameters: {'colsample_bylevel': 0.037483676637194395, 'depth': 4, 'boosting_type': 'Ordered', 'bootstrap_type': 'MVS', 'learning_rate': 0.02142661893682731, 'min_data_in_leaf': 79}. Best is trial 5 with value: 0.9428312159709619.\n",
      "[I 2024-03-03 18:31:33,787] Trial 46 finished with value: 0.9437386569872959 and parameters: {'colsample_bylevel': 0.04820386818974805, 'depth': 11, 'boosting_type': 'Ordered', 'bootstrap_type': 'MVS', 'learning_rate': 0.0451441303740223, 'min_data_in_leaf': 99}. Best is trial 46 with value: 0.9437386569872959.\n",
      "[I 2024-03-03 18:31:48,427] Trial 47 finished with value: 0.9137931034482759 and parameters: {'colsample_bylevel': 0.04703066321649014, 'depth': 11, 'boosting_type': 'Ordered', 'bootstrap_type': 'MVS', 'learning_rate': 0.082874856443998, 'min_data_in_leaf': 100}. Best is trial 46 with value: 0.9437386569872959.\n",
      "[I 2024-03-03 18:32:04,810] Trial 48 finished with value: 0.9038112522686026 and parameters: {'colsample_bylevel': 0.04050757592929096, 'depth': 12, 'boosting_type': 'Ordered', 'bootstrap_type': 'MVS', 'learning_rate': 0.04638625413414159, 'min_data_in_leaf': 94}. Best is trial 46 with value: 0.9437386569872959.\n"
     ]
    }
   ],
   "source": [
    "study = optuna.create_study(direction=\"maximize\")\n",
    "study.optimize(objective1, n_trials=50, timeout=600)"
   ]
  },
  {
   "cell_type": "code",
   "execution_count": 10,
   "id": "c8a93aa3-971b-48ee-a79f-a7e46a373cbe",
   "metadata": {},
   "outputs": [
    {
     "name": "stdout",
     "output_type": "stream",
     "text": [
      "Best hyperparameters: {'colsample_bylevel': 0.04820386818974805, 'depth': 11, 'boosting_type': 'Ordered', 'bootstrap_type': 'MVS', 'learning_rate': 0.0451441303740223, 'min_data_in_leaf': 99}\n",
      "Best Accuracy: 0.9437386569872959\n"
     ]
    }
   ],
   "source": [
    "print('Best hyperparameters:', study.best_params)\n",
    "print('Best Accuracy:', study.best_value)"
   ]
  },
  {
   "cell_type": "code",
   "execution_count": 11,
   "id": "ea9fa9fd-3653-4dda-b200-0236dcb496af",
   "metadata": {},
   "outputs": [],
   "source": [
    "def objective2(trial):\n",
    "    X_train, X_valid, y_train, y_valid = train_test_split(\n",
    "        data2.drop(['NObeyesdad'], axis=1),\n",
    "        data2['NObeyesdad'],\n",
    "        test_size=0.20,\n",
    "        shuffle=True\n",
    "    )\n",
    "\n",
    "    param = {\n",
    "        \"colsample_bylevel\": trial.suggest_float(\"colsample_bylevel\", 0.01, 0.1),\n",
    "        \"depth\": trial.suggest_int(\"depth\", 1, 12),\n",
    "        \"boosting_type\": trial.suggest_categorical(\"boosting_type\", [\"Ordered\", \"Plain\"]),\n",
    "        \"bootstrap_type\": trial.suggest_categorical(\n",
    "            \"bootstrap_type\", [\"Bayesian\", \"Bernoulli\", \"MVS\"]\n",
    "        ),\n",
    "        \"learning_rate\": trial.suggest_float(\"learning_rate\", 1e-3, 0.1, log=True),\n",
    "        \"min_data_in_leaf\": trial.suggest_int(\"min_data_in_leaf\", 1, 100),\n",
    "        #\"used_ram_limit\": \"3gb\",\n",
    "    }\n",
    "\n",
    "    if param[\"bootstrap_type\"] == \"Bayesian\":\n",
    "        param[\"bagging_temperature\"] = trial.suggest_float(\"bagging_temperature\", 0, 10)\n",
    "    elif param[\"bootstrap_type\"] == \"Bernoulli\":\n",
    "        param[\"subsample\"] = trial.suggest_float(\"subsample\", 0.1, 1)\n",
    "\n",
    "    cat = ['CAEC', 'CALC', 'MTRANS', 'Gender','family_history_with_overweight','FAVC', 'SMOKE', 'SCC']\n",
    "    \n",
    "    clf = CatBoostClassifier(**param, iterations=1200, logging_level='Silent')\n",
    "    train = Pool(X_train, y_train, cat_features=cat)\n",
    "    valid = Pool(X_valid, y_valid, cat_features=cat)\n",
    "\n",
    "    clf.fit(train, eval_set=valid, verbose=False, early_stopping_rounds=100)\n",
    "\n",
    "    accuracy = accuracy_score(y_valid, clf.predict(X_valid))\n",
    "    return accuracy"
   ]
  },
  {
   "cell_type": "code",
   "execution_count": 12,
   "id": "06017480-580f-4e6a-a22a-cc12f223f0fd",
   "metadata": {},
   "outputs": [
    {
     "name": "stderr",
     "output_type": "stream",
     "text": [
      "[I 2024-03-03 18:32:05,022] A new study created in memory with name: no-name-c1162f71-941c-44b1-b7d9-d51063876535\n",
      "[I 2024-03-03 18:32:19,396] Trial 0 finished with value: 0.8969641214351426 and parameters: {'colsample_bylevel': 0.025783766363779388, 'depth': 9, 'boosting_type': 'Ordered', 'bootstrap_type': 'Bayesian', 'learning_rate': 0.0029083396692749066, 'min_data_in_leaf': 12, 'bagging_temperature': 4.319444004605371}. Best is trial 0 with value: 0.8969641214351426.\n",
      "[I 2024-03-03 18:32:35,699] Trial 1 finished with value: 0.8666053357865685 and parameters: {'colsample_bylevel': 0.04914590802117809, 'depth': 12, 'boosting_type': 'Ordered', 'bootstrap_type': 'Bernoulli', 'learning_rate': 0.0038984215294082607, 'min_data_in_leaf': 62, 'subsample': 0.5496822269941858}. Best is trial 0 with value: 0.8969641214351426.\n",
      "[I 2024-03-03 18:32:48,782] Trial 2 finished with value: 0.890524379024839 and parameters: {'colsample_bylevel': 0.02987276590061378, 'depth': 6, 'boosting_type': 'Ordered', 'bootstrap_type': 'MVS', 'learning_rate': 0.009968933795048499, 'min_data_in_leaf': 56}. Best is trial 0 with value: 0.8969641214351426.\n",
      "[I 2024-03-03 18:32:57,453] Trial 3 finished with value: 0.889604415823367 and parameters: {'colsample_bylevel': 0.06756986148950957, 'depth': 7, 'boosting_type': 'Plain', 'bootstrap_type': 'Bernoulli', 'learning_rate': 0.010091646772039158, 'min_data_in_leaf': 32, 'subsample': 0.12505261520906305}. Best is trial 0 with value: 0.8969641214351426.\n",
      "[I 2024-03-03 18:33:17,421] Trial 4 finished with value: 0.8886844526218951 and parameters: {'colsample_bylevel': 0.0638789965162095, 'depth': 10, 'boosting_type': 'Ordered', 'bootstrap_type': 'MVS', 'learning_rate': 0.0037158430540405493, 'min_data_in_leaf': 22}. Best is trial 0 with value: 0.8969641214351426.\n",
      "[I 2024-03-03 18:33:33,532] Trial 5 finished with value: 0.906163753449862 and parameters: {'colsample_bylevel': 0.07627711114134392, 'depth': 6, 'boosting_type': 'Ordered', 'bootstrap_type': 'Bernoulli', 'learning_rate': 0.006067421279924771, 'min_data_in_leaf': 24, 'subsample': 0.7515935141860609}. Best is trial 5 with value: 0.906163753449862.\n",
      "[I 2024-03-03 18:33:50,537] Trial 6 finished with value: 0.8822447102115916 and parameters: {'colsample_bylevel': 0.048332368768477706, 'depth': 12, 'boosting_type': 'Ordered', 'bootstrap_type': 'MVS', 'learning_rate': 0.0014356011263198462, 'min_data_in_leaf': 80}. Best is trial 5 with value: 0.906163753449862.\n",
      "[I 2024-03-03 18:34:00,727] Trial 7 finished with value: 0.8997240110395585 and parameters: {'colsample_bylevel': 0.06380909707190302, 'depth': 7, 'boosting_type': 'Plain', 'bootstrap_type': 'Bernoulli', 'learning_rate': 0.006491516190009246, 'min_data_in_leaf': 17, 'subsample': 0.9752825219770108}. Best is trial 5 with value: 0.906163753449862.\n",
      "[I 2024-03-03 18:34:13,948] Trial 8 finished with value: 0.9052437902483901 and parameters: {'colsample_bylevel': 0.011355828305280818, 'depth': 4, 'boosting_type': 'Ordered', 'bootstrap_type': 'Bernoulli', 'learning_rate': 0.02118150983787767, 'min_data_in_leaf': 82, 'subsample': 0.11707558052505479}. Best is trial 5 with value: 0.906163753449862.\n",
      "[I 2024-03-03 18:34:29,950] Trial 9 finished with value: 0.9199632014719411 and parameters: {'colsample_bylevel': 0.07733104449350864, 'depth': 6, 'boosting_type': 'Ordered', 'bootstrap_type': 'MVS', 'learning_rate': 0.0338756227165156, 'min_data_in_leaf': 75}. Best is trial 9 with value: 0.9199632014719411.\n",
      "[I 2024-03-03 18:34:36,582] Trial 10 finished with value: 0.889604415823367 and parameters: {'colsample_bylevel': 0.09830372035451238, 'depth': 1, 'boosting_type': 'Plain', 'bootstrap_type': 'Bayesian', 'learning_rate': 0.09991778341041578, 'min_data_in_leaf': 98, 'bagging_temperature': 9.537728823889056}. Best is trial 9 with value: 0.9199632014719411.\n",
      "[I 2024-03-03 18:34:51,756] Trial 11 finished with value: 0.9245630174793008 and parameters: {'colsample_bylevel': 0.08766262256803978, 'depth': 4, 'boosting_type': 'Ordered', 'bootstrap_type': 'MVS', 'learning_rate': 0.03627900639935198, 'min_data_in_leaf': 40}. Best is trial 11 with value: 0.9245630174793008.\n",
      "[I 2024-03-03 18:35:05,828] Trial 12 finished with value: 0.9236430542778289 and parameters: {'colsample_bylevel': 0.09181388041878961, 'depth': 3, 'boosting_type': 'Ordered', 'bootstrap_type': 'MVS', 'learning_rate': 0.04429004507525362, 'min_data_in_leaf': 42}. Best is trial 11 with value: 0.9245630174793008.\n",
      "[I 2024-03-03 18:35:20,201] Trial 13 finished with value: 0.9190432382704692 and parameters: {'colsample_bylevel': 0.09540227984514389, 'depth': 2, 'boosting_type': 'Ordered', 'bootstrap_type': 'MVS', 'learning_rate': 0.059901837248871784, 'min_data_in_leaf': 38}. Best is trial 11 with value: 0.9245630174793008.\n",
      "[I 2024-03-03 18:35:28,773] Trial 14 finished with value: 0.9190432382704692 and parameters: {'colsample_bylevel': 0.08616569584830583, 'depth': 3, 'boosting_type': 'Plain', 'bootstrap_type': 'MVS', 'learning_rate': 0.02669576315345816, 'min_data_in_leaf': 44}. Best is trial 11 with value: 0.9245630174793008.\n",
      "[I 2024-03-03 18:35:42,855] Trial 15 finished with value: 0.9070837166513339 and parameters: {'colsample_bylevel': 0.08619059002087878, 'depth': 4, 'boosting_type': 'Ordered', 'bootstrap_type': 'MVS', 'learning_rate': 0.0542310361731543, 'min_data_in_leaf': 50}. Best is trial 11 with value: 0.9245630174793008.\n",
      "[I 2024-03-03 18:35:57,337] Trial 16 finished with value: 0.9199632014719411 and parameters: {'colsample_bylevel': 0.08739791077993465, 'depth': 4, 'boosting_type': 'Ordered', 'bootstrap_type': 'MVS', 'learning_rate': 0.016340492296845692, 'min_data_in_leaf': 4}. Best is trial 11 with value: 0.9245630174793008.\n",
      "[I 2024-03-03 18:36:09,434] Trial 17 finished with value: 0.906163753449862 and parameters: {'colsample_bylevel': 0.09893428808618561, 'depth': 1, 'boosting_type': 'Ordered', 'bootstrap_type': 'Bayesian', 'learning_rate': 0.04263934263383097, 'min_data_in_leaf': 67, 'bagging_temperature': 0.7326849982404973}. Best is trial 11 with value: 0.9245630174793008.\n",
      "[I 2024-03-03 18:36:17,360] Trial 18 finished with value: 0.9310027598896045 and parameters: {'colsample_bylevel': 0.07564070606643916, 'depth': 3, 'boosting_type': 'Plain', 'bootstrap_type': 'MVS', 'learning_rate': 0.08822676412087703, 'min_data_in_leaf': 40}. Best is trial 18 with value: 0.9310027598896045.\n",
      "[I 2024-03-03 18:36:25,473] Trial 19 finished with value: 0.920883164673413 and parameters: {'colsample_bylevel': 0.07526865542112676, 'depth': 3, 'boosting_type': 'Plain', 'bootstrap_type': 'MVS', 'learning_rate': 0.08703549124644758, 'min_data_in_leaf': 31}. Best is trial 18 with value: 0.9310027598896045.\n",
      "[I 2024-03-03 18:36:33,910] Trial 20 finished with value: 0.9135234590616376 and parameters: {'colsample_bylevel': 0.05285888591385938, 'depth': 5, 'boosting_type': 'Plain', 'bootstrap_type': 'Bayesian', 'learning_rate': 0.07431603393023901, 'min_data_in_leaf': 54, 'bagging_temperature': 9.389455777764484}. Best is trial 18 with value: 0.9310027598896045.\n",
      "[I 2024-03-03 18:36:42,749] Trial 21 finished with value: 0.9034038638454461 and parameters: {'colsample_bylevel': 0.08925579564939667, 'depth': 2, 'boosting_type': 'Plain', 'bootstrap_type': 'MVS', 'learning_rate': 0.038884912492361576, 'min_data_in_leaf': 42}. Best is trial 18 with value: 0.9310027598896045.\n",
      "[I 2024-03-03 18:36:50,996] Trial 22 finished with value: 0.9291628334866605 and parameters: {'colsample_bylevel': 0.07960737150938849, 'depth': 3, 'boosting_type': 'Plain', 'bootstrap_type': 'MVS', 'learning_rate': 0.021364134825804387, 'min_data_in_leaf': 34}. Best is trial 18 with value: 0.9310027598896045.\n",
      "[I 2024-03-03 18:37:00,611] Trial 23 finished with value: 0.9153633854645814 and parameters: {'colsample_bylevel': 0.07942131126310555, 'depth': 5, 'boosting_type': 'Plain', 'bootstrap_type': 'MVS', 'learning_rate': 0.016554382487931806, 'min_data_in_leaf': 29}. Best is trial 18 with value: 0.9310027598896045.\n",
      "[I 2024-03-03 18:37:08,910] Trial 24 finished with value: 0.9070837166513339 and parameters: {'colsample_bylevel': 0.06894801768240029, 'depth': 2, 'boosting_type': 'Plain', 'bootstrap_type': 'MVS', 'learning_rate': 0.02627029707255222, 'min_data_in_leaf': 37}. Best is trial 18 with value: 0.9310027598896045.\n",
      "[I 2024-03-03 18:37:17,884] Trial 25 finished with value: 0.9172033118675254 and parameters: {'colsample_bylevel': 0.05861573123166864, 'depth': 5, 'boosting_type': 'Plain', 'bootstrap_type': 'MVS', 'learning_rate': 0.06539989169577817, 'min_data_in_leaf': 49}. Best is trial 18 with value: 0.9310027598896045.\n",
      "[I 2024-03-03 18:37:29,657] Trial 26 finished with value: 0.9135234590616376 and parameters: {'colsample_bylevel': 0.08020028918041727, 'depth': 8, 'boosting_type': 'Plain', 'bootstrap_type': 'MVS', 'learning_rate': 0.013753930723979157, 'min_data_in_leaf': 11}. Best is trial 18 with value: 0.9310027598896045.\n",
      "[I 2024-03-03 18:37:38,981] Trial 27 finished with value: 0.9135234590616376 and parameters: {'colsample_bylevel': 0.07030843696065656, 'depth': 3, 'boosting_type': 'Plain', 'bootstrap_type': 'MVS', 'learning_rate': 0.029724546600541978, 'min_data_in_leaf': 64}. Best is trial 18 with value: 0.9310027598896045.\n",
      "[I 2024-03-03 18:37:47,739] Trial 28 finished with value: 0.8988040478380864 and parameters: {'colsample_bylevel': 0.0830581073012962, 'depth': 4, 'boosting_type': 'Plain', 'bootstrap_type': 'Bayesian', 'learning_rate': 0.04990408559379622, 'min_data_in_leaf': 26, 'bagging_temperature': 0.14472067369634622}. Best is trial 18 with value: 0.9310027598896045.\n",
      "[I 2024-03-03 18:37:55,050] Trial 29 finished with value: 0.889604415823367 and parameters: {'colsample_bylevel': 0.03774544668922121, 'depth': 1, 'boosting_type': 'Plain', 'bootstrap_type': 'MVS', 'learning_rate': 0.019505840894008933, 'min_data_in_leaf': 18}. Best is trial 18 with value: 0.9310027598896045.\n",
      "[I 2024-03-03 18:38:02,432] Trial 30 finished with value: 0.8932842686292548 and parameters: {'colsample_bylevel': 0.09276492834540725, 'depth': 2, 'boosting_type': 'Plain', 'bootstrap_type': 'Bayesian', 'learning_rate': 0.011482552603993841, 'min_data_in_leaf': 35, 'bagging_temperature': 5.538864335231223}. Best is trial 18 with value: 0.9310027598896045.\n",
      "[I 2024-03-03 18:38:16,379] Trial 31 finished with value: 0.9070837166513339 and parameters: {'colsample_bylevel': 0.09310335354671648, 'depth': 3, 'boosting_type': 'Ordered', 'bootstrap_type': 'MVS', 'learning_rate': 0.04151499874951884, 'min_data_in_leaf': 45}. Best is trial 18 with value: 0.9310027598896045.\n",
      "[I 2024-03-03 18:38:30,442] Trial 32 finished with value: 0.9126034958601656 and parameters: {'colsample_bylevel': 0.07444237332232431, 'depth': 3, 'boosting_type': 'Ordered', 'bootstrap_type': 'MVS', 'learning_rate': 0.07446023749465673, 'min_data_in_leaf': 58}. Best is trial 18 with value: 0.9310027598896045.\n",
      "[I 2024-03-03 18:38:46,340] Trial 33 finished with value: 0.9254829806807727 and parameters: {'colsample_bylevel': 0.08965381964327311, 'depth': 5, 'boosting_type': 'Ordered', 'bootstrap_type': 'MVS', 'learning_rate': 0.02365793885838274, 'min_data_in_leaf': 42}. Best is trial 18 with value: 0.9310027598896045.\n",
      "[I 2024-03-03 18:39:01,440] Trial 34 finished with value: 0.9236430542778289 and parameters: {'colsample_bylevel': 0.08292728960566734, 'depth': 5, 'boosting_type': 'Ordered', 'bootstrap_type': 'MVS', 'learning_rate': 0.022229543542914485, 'min_data_in_leaf': 48}. Best is trial 18 with value: 0.9310027598896045.\n",
      "[I 2024-03-03 18:39:14,198] Trial 35 finished with value: 0.8758049678012879 and parameters: {'colsample_bylevel': 0.0608102470467444, 'depth': 4, 'boosting_type': 'Ordered', 'bootstrap_type': 'Bernoulli', 'learning_rate': 0.001110998993622015, 'min_data_in_leaf': 37, 'subsample': 0.457918876791915}. Best is trial 18 with value: 0.9310027598896045.\n",
      "[I 2024-03-03 18:39:28,956] Trial 36 finished with value: 0.9116835326586936 and parameters: {'colsample_bylevel': 0.07209653959568953, 'depth': 6, 'boosting_type': 'Ordered', 'bootstrap_type': 'MVS', 'learning_rate': 0.008165428280894445, 'min_data_in_leaf': 55}. Best is trial 18 with value: 0.9310027598896045.\n",
      "[I 2024-03-03 18:39:42,163] Trial 37 finished with value: 0.9291628334866605 and parameters: {'colsample_bylevel': 0.08282213949544551, 'depth': 9, 'boosting_type': 'Plain', 'bootstrap_type': 'MVS', 'learning_rate': 0.03379306842930879, 'min_data_in_leaf': 31}. Best is trial 18 with value: 0.9310027598896045.\n",
      "[I 2024-03-03 18:39:52,089] Trial 38 finished with value: 0.890524379024839 and parameters: {'colsample_bylevel': 0.06472593183803375, 'depth': 9, 'boosting_type': 'Plain', 'bootstrap_type': 'Bernoulli', 'learning_rate': 0.002247299427488547, 'min_data_in_leaf': 20, 'subsample': 0.34169999351970015}. Best is trial 18 with value: 0.9310027598896045.\n",
      "[I 2024-03-03 18:39:59,589] Trial 39 finished with value: 0.8942042318307267 and parameters: {'colsample_bylevel': 0.04109652343795142, 'depth': 11, 'boosting_type': 'Plain', 'bootstrap_type': 'MVS', 'learning_rate': 0.013599914076492907, 'min_data_in_leaf': 29}. Best is trial 18 with value: 0.9310027598896045.\n",
      "[I 2024-03-03 18:40:11,668] Trial 40 finished with value: 0.9089236430542779 and parameters: {'colsample_bylevel': 0.08118032172870274, 'depth': 10, 'boosting_type': 'Plain', 'bootstrap_type': 'MVS', 'learning_rate': 0.004976320616440099, 'min_data_in_leaf': 33}. Best is trial 18 with value: 0.9310027598896045.\n",
      "[I 2024-03-03 18:40:25,132] Trial 41 finished with value: 0.922723091076357 and parameters: {'colsample_bylevel': 0.08918430929928416, 'depth': 8, 'boosting_type': 'Plain', 'bootstrap_type': 'MVS', 'learning_rate': 0.028585031017727257, 'min_data_in_leaf': 25}. Best is trial 18 with value: 0.9310027598896045.\n",
      "[I 2024-03-03 18:40:43,867] Trial 42 finished with value: 0.9273229070837167 and parameters: {'colsample_bylevel': 0.09535675785401505, 'depth': 7, 'boosting_type': 'Ordered', 'bootstrap_type': 'MVS', 'learning_rate': 0.03413425044069362, 'min_data_in_leaf': 39}. Best is trial 18 with value: 0.9310027598896045.\n",
      "[I 2024-03-03 18:40:58,965] Trial 43 finished with value: 0.9172033118675254 and parameters: {'colsample_bylevel': 0.0954786238450098, 'depth': 8, 'boosting_type': 'Plain', 'bootstrap_type': 'MVS', 'learning_rate': 0.022263915552027322, 'min_data_in_leaf': 11}. Best is trial 18 with value: 0.9310027598896045.\n",
      "[I 2024-03-03 18:41:10,324] Trial 44 finished with value: 0.8978840846366145 and parameters: {'colsample_bylevel': 0.014079384538264648, 'depth': 7, 'boosting_type': 'Ordered', 'bootstrap_type': 'Bernoulli', 'learning_rate': 0.03149682337648564, 'min_data_in_leaf': 33, 'subsample': 0.9939333040410767}. Best is trial 18 with value: 0.9310027598896045.\n",
      "[I 2024-03-03 18:41:26,295] Trial 45 finished with value: 0.921803127874885 and parameters: {'colsample_bylevel': 0.09856038921019718, 'depth': 9, 'boosting_type': 'Plain', 'bootstrap_type': 'MVS', 'learning_rate': 0.009390581515904408, 'min_data_in_leaf': 45}. Best is trial 18 with value: 0.9310027598896045.\n",
      "[I 2024-03-03 18:41:41,741] Trial 46 finished with value: 0.9282428702851886 and parameters: {'colsample_bylevel': 0.07479516783243277, 'depth': 7, 'boosting_type': 'Ordered', 'bootstrap_type': 'MVS', 'learning_rate': 0.05664676786979991, 'min_data_in_leaf': 15}. Best is trial 18 with value: 0.9310027598896045.\n",
      "[I 2024-03-03 18:42:03,153] Trial 47 finished with value: 0.921803127874885 and parameters: {'colsample_bylevel': 0.06731641069277892, 'depth': 10, 'boosting_type': 'Ordered', 'bootstrap_type': 'MVS', 'learning_rate': 0.09480536779934903, 'min_data_in_leaf': 2}. Best is trial 18 with value: 0.9310027598896045.\n",
      "[I 2024-03-03 18:42:11,271] Trial 48 finished with value: 0.9319227230910764 and parameters: {'colsample_bylevel': 0.07694033036630527, 'depth': 7, 'boosting_type': 'Plain', 'bootstrap_type': 'MVS', 'learning_rate': 0.05672521081338127, 'min_data_in_leaf': 16}. Best is trial 48 with value: 0.9319227230910764.\n"
     ]
    }
   ],
   "source": [
    "study = optuna.create_study(direction=\"maximize\")\n",
    "study.optimize(objective2, n_trials=50, timeout=600)"
   ]
  },
  {
   "cell_type": "code",
   "execution_count": 13,
   "id": "73b8a46a-9944-40f4-8d54-80a7cafcd5c4",
   "metadata": {},
   "outputs": [
    {
     "name": "stdout",
     "output_type": "stream",
     "text": [
      "Best hyperparameters: {'colsample_bylevel': 0.07694033036630527, 'depth': 7, 'boosting_type': 'Plain', 'bootstrap_type': 'MVS', 'learning_rate': 0.05672521081338127, 'min_data_in_leaf': 16}\n",
      "Best Accuracy: 0.9319227230910764\n"
     ]
    }
   ],
   "source": [
    "print('Best hyperparameters:', study.best_params)\n",
    "print('Best Accuracy:', study.best_value)"
   ]
  },
  {
   "cell_type": "markdown",
   "id": "cb6e5809-4166-41e8-bb21-03d4d2d4e505",
   "metadata": {},
   "source": [
    "Обучим модели на всех данных с подобранными параметрами"
   ]
  },
  {
   "cell_type": "code",
   "execution_count": 14,
   "id": "c31c4033-ab5d-476d-801c-3d460d9e7371",
   "metadata": {},
   "outputs": [],
   "source": [
    "data = pd.read_csv('../data/train.csv', index_col='id')\n",
    "\n",
    "data['BMI'] = make_BMI(data)\n",
    "group_1 = ['Normal_Weight', 'Overweight_Level_I']\n",
    "group_2 = ['Overweight_Level_II', 'Obesity_Type_I']\n",
    "\n",
    "data1 = data[data['NObeyesdad'].isin(group_1)]\n",
    "data2 = data[data['NObeyesdad'].isin(group_2)]\n",
    "\n",
    "data['NObeyesdad'] = data['NObeyesdad'].apply(lambda x: 'group_1' if x in group_1 else x)\n",
    "data['NObeyesdad'] = data['NObeyesdad'].apply(lambda x: 'group_2' if x in group_2 else x)"
   ]
  },
  {
   "cell_type": "code",
   "execution_count": 15,
   "id": "1f38c360-674d-4154-a997-bcd70d075670",
   "metadata": {},
   "outputs": [
    {
     "data": {
      "application/vnd.jupyter.widget-view+json": {
       "model_id": "e06c04e37bc94113ae1fbbd12ed6c21b",
       "version_major": 2,
       "version_minor": 0
      },
      "text/plain": [
       "MetricVisualizer(layout=Layout(align_self='stretch', height='500px'))"
      ]
     },
     "metadata": {},
     "output_type": "display_data"
    },
    {
     "data": {
      "text/plain": [
       "<catboost.core.CatBoostClassifier at 0x2268d124100>"
      ]
     },
     "execution_count": 15,
     "metadata": {},
     "output_type": "execute_result"
    }
   ],
   "source": [
    "X, y = data.drop(['NObeyesdad'], axis=1), data['NObeyesdad']\n",
    "X1, y1 = data1.drop(['NObeyesdad'], axis=1), data1['NObeyesdad']\n",
    "X2, y2 = data2.drop(['NObeyesdad'], axis=1), data2['NObeyesdad']\n",
    "cat = ['CAEC', 'CALC', 'MTRANS', 'Gender','family_history_with_overweight','FAVC', 'SMOKE', 'SCC']\n",
    "\n",
    "param = {'colsample_bylevel': 0.05544803743067026, 'depth': 5, 'boosting_type': 'Ordered', 'bootstrap_type': 'MVS', 'learning_rate': 0.026603996554542788, 'min_data_in_leaf': 99}\n",
    "\n",
    "clf = CatBoostClassifier(**param, iterations=1200, logging_level='Silent')\n",
    "train = Pool(X, y, cat_features=cat)\n",
    "\n",
    "clf.fit(train, verbose=False, plot=True)"
   ]
  },
  {
   "cell_type": "code",
   "execution_count": 16,
   "id": "5b3a30d5-1d7e-4c6f-8925-25bae1ca0d9f",
   "metadata": {},
   "outputs": [
    {
     "data": {
      "application/vnd.jupyter.widget-view+json": {
       "model_id": "0134655aec6a4356a4ad54c58e3d5db0",
       "version_major": 2,
       "version_minor": 0
      },
      "text/plain": [
       "MetricVisualizer(layout=Layout(align_self='stretch', height='500px'))"
      ]
     },
     "metadata": {},
     "output_type": "display_data"
    },
    {
     "data": {
      "text/plain": [
       "<catboost.core.CatBoostClassifier at 0x2268d0bfb80>"
      ]
     },
     "execution_count": 16,
     "metadata": {},
     "output_type": "execute_result"
    }
   ],
   "source": [
    "param = {'colsample_bylevel': 0.09274856703825257, 'depth': 3, 'boosting_type': 'Plain', 'bootstrap_type': 'MVS', 'learning_rate': 0.03441999288614816, 'min_data_in_leaf': 75}\n",
    "\n",
    "clf1 = CatBoostClassifier(**param, iterations=1200, logging_level='Silent')\n",
    "train = Pool(X1, y1, cat_features=cat)\n",
    "\n",
    "clf1.fit(train, verbose=False, plot=True)"
   ]
  },
  {
   "cell_type": "code",
   "execution_count": 17,
   "id": "962c891a-7ec2-433c-bae9-fb8e285c174b",
   "metadata": {},
   "outputs": [
    {
     "data": {
      "application/vnd.jupyter.widget-view+json": {
       "model_id": "7b5b93000f644e20995c6753c8e9c473",
       "version_major": 2,
       "version_minor": 0
      },
      "text/plain": [
       "MetricVisualizer(layout=Layout(align_self='stretch', height='500px'))"
      ]
     },
     "metadata": {},
     "output_type": "display_data"
    },
    {
     "data": {
      "text/plain": [
       "<catboost.core.CatBoostClassifier at 0x2268d0bf670>"
      ]
     },
     "execution_count": 17,
     "metadata": {},
     "output_type": "execute_result"
    }
   ],
   "source": [
    "param = {'colsample_bylevel': 0.0710621910493227, 'depth': 9, 'boosting_type': 'Plain', 'bootstrap_type': 'MVS', 'learning_rate': 0.059084737806393804, 'min_data_in_leaf': 44}\n",
    "\n",
    "clf2 = CatBoostClassifier(**param, iterations=1200, logging_level='Silent')\n",
    "train = Pool(X2, y2, cat_features=cat)\n",
    "\n",
    "clf2.fit(train, verbose=False, plot=True)"
   ]
  },
  {
   "cell_type": "code",
   "execution_count": 18,
   "id": "23c7a4e9-3a3d-4cce-a885-d74a0ef3d767",
   "metadata": {},
   "outputs": [
    {
     "data": {
      "text/plain": [
       "id\n",
       "20758        Obesity_Type_II\n",
       "20759     Overweight_Level_I\n",
       "20760       Obesity_Type_III\n",
       "20761         Obesity_Type_I\n",
       "20762       Obesity_Type_III\n",
       "                ...         \n",
       "34593    Overweight_Level_II\n",
       "34594          Normal_Weight\n",
       "34595    Insufficient_Weight\n",
       "34596          Normal_Weight\n",
       "34597        Obesity_Type_II\n",
       "Name: pred, Length: 13840, dtype: object"
      ]
     },
     "execution_count": 18,
     "metadata": {},
     "output_type": "execute_result"
    }
   ],
   "source": [
    "test = pd.read_csv('../data/test.csv', index_col='id')\n",
    "\n",
    "test['BMI'] = make_BMI(test)\n",
    "\n",
    "test['pred'] = clf.predict(test)\n",
    "index_group_1 = test[test['pred'] == 'group_1'].index\n",
    "index_group_2 = test[test['pred'] == 'group_2'].index\n",
    "test.loc[index_group_1, 'pred'] = clf1.predict(test.loc[index_group_1].drop('pred', axis=1))\n",
    "test.loc[index_group_2, 'pred'] = clf2.predict(test.loc[index_group_2].drop('pred', axis=1))\n",
    "\n",
    "pd.Series(test['pred'], index=test.index).to_csv('../preds/pred3.csv')\n",
    "\n",
    "test['pred']"
   ]
  },
  {
   "cell_type": "markdown",
   "id": "e88b0269-705f-4ebb-a19b-82d0040d08eb",
   "metadata": {},
   "source": [
    "Благодаря файнтюнингу точность увеличилась на 1 процент.\n",
    "\n",
    "Score: 0.89342\n",
    "\n",
    "Необходимо более точно посмотреть на объекты, на которых модель ошибается.\n",
    "Вероятно, стот добавить данные из оригинального датасета, и, возможно улучшит качество приведение датасета к формату оригинальных значений.\n",
    "\n",
    "*Далее, исследовав данные оригинального датасета было решено оставить количественные данные как есть, в связи с тем, что и в оригинальных данных присутствуют такие же искажения.*"
   ]
  }
 ],
 "metadata": {
  "kernelspec": {
   "display_name": "Python 3 (ipykernel)",
   "language": "python",
   "name": "python3"
  },
  "language_info": {
   "codemirror_mode": {
    "name": "ipython",
    "version": 3
   },
   "file_extension": ".py",
   "mimetype": "text/x-python",
   "name": "python",
   "nbconvert_exporter": "python",
   "pygments_lexer": "ipython3",
   "version": "3.10.9"
  }
 },
 "nbformat": 4,
 "nbformat_minor": 5
}
