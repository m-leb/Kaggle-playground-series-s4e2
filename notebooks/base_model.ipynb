{
 "cells": [
  {
   "cell_type": "code",
   "execution_count": 1,
   "id": "74aa33bc-0667-4d94-98c2-18de0326c533",
   "metadata": {
    "tags": []
   },
   "outputs": [],
   "source": [
    "import pandas as pd\n",
    "import numpy as np\n",
    "from sklearn.model_selection import train_test_split\n",
    "from catboost import CatBoostClassifier\n",
    "\n",
    "from utility import make_BMI"
   ]
  },
  {
   "cell_type": "code",
   "execution_count": 2,
   "id": "d6979500-ebc8-4c42-a59a-99d738f1ea4e",
   "metadata": {},
   "outputs": [
    {
     "data": {
      "text/html": [
       "<div>\n",
       "<style scoped>\n",
       "    .dataframe tbody tr th:only-of-type {\n",
       "        vertical-align: middle;\n",
       "    }\n",
       "\n",
       "    .dataframe tbody tr th {\n",
       "        vertical-align: top;\n",
       "    }\n",
       "\n",
       "    .dataframe thead th {\n",
       "        text-align: right;\n",
       "    }\n",
       "</style>\n",
       "<table border=\"1\" class=\"dataframe\">\n",
       "  <thead>\n",
       "    <tr style=\"text-align: right;\">\n",
       "      <th></th>\n",
       "      <th>Gender</th>\n",
       "      <th>Age</th>\n",
       "      <th>Height</th>\n",
       "      <th>Weight</th>\n",
       "      <th>family_history_with_overweight</th>\n",
       "      <th>FAVC</th>\n",
       "      <th>FCVC</th>\n",
       "      <th>NCP</th>\n",
       "      <th>CAEC</th>\n",
       "      <th>SMOKE</th>\n",
       "      <th>CH2O</th>\n",
       "      <th>SCC</th>\n",
       "      <th>FAF</th>\n",
       "      <th>TUE</th>\n",
       "      <th>CALC</th>\n",
       "      <th>MTRANS</th>\n",
       "      <th>NObeyesdad</th>\n",
       "    </tr>\n",
       "    <tr>\n",
       "      <th>id</th>\n",
       "      <th></th>\n",
       "      <th></th>\n",
       "      <th></th>\n",
       "      <th></th>\n",
       "      <th></th>\n",
       "      <th></th>\n",
       "      <th></th>\n",
       "      <th></th>\n",
       "      <th></th>\n",
       "      <th></th>\n",
       "      <th></th>\n",
       "      <th></th>\n",
       "      <th></th>\n",
       "      <th></th>\n",
       "      <th></th>\n",
       "      <th></th>\n",
       "      <th></th>\n",
       "    </tr>\n",
       "  </thead>\n",
       "  <tbody>\n",
       "    <tr>\n",
       "      <th>0</th>\n",
       "      <td>Male</td>\n",
       "      <td>24.443011</td>\n",
       "      <td>1.699998</td>\n",
       "      <td>81.669950</td>\n",
       "      <td>yes</td>\n",
       "      <td>yes</td>\n",
       "      <td>2.000000</td>\n",
       "      <td>2.983297</td>\n",
       "      <td>Sometimes</td>\n",
       "      <td>no</td>\n",
       "      <td>2.763573</td>\n",
       "      <td>no</td>\n",
       "      <td>0.000000</td>\n",
       "      <td>0.976473</td>\n",
       "      <td>Sometimes</td>\n",
       "      <td>Public_Transportation</td>\n",
       "      <td>Overweight_Level_II</td>\n",
       "    </tr>\n",
       "    <tr>\n",
       "      <th>1</th>\n",
       "      <td>Female</td>\n",
       "      <td>18.000000</td>\n",
       "      <td>1.560000</td>\n",
       "      <td>57.000000</td>\n",
       "      <td>yes</td>\n",
       "      <td>yes</td>\n",
       "      <td>2.000000</td>\n",
       "      <td>3.000000</td>\n",
       "      <td>Frequently</td>\n",
       "      <td>no</td>\n",
       "      <td>2.000000</td>\n",
       "      <td>no</td>\n",
       "      <td>1.000000</td>\n",
       "      <td>1.000000</td>\n",
       "      <td>no</td>\n",
       "      <td>Automobile</td>\n",
       "      <td>Normal_Weight</td>\n",
       "    </tr>\n",
       "    <tr>\n",
       "      <th>2</th>\n",
       "      <td>Female</td>\n",
       "      <td>18.000000</td>\n",
       "      <td>1.711460</td>\n",
       "      <td>50.165754</td>\n",
       "      <td>yes</td>\n",
       "      <td>yes</td>\n",
       "      <td>1.880534</td>\n",
       "      <td>1.411685</td>\n",
       "      <td>Sometimes</td>\n",
       "      <td>no</td>\n",
       "      <td>1.910378</td>\n",
       "      <td>no</td>\n",
       "      <td>0.866045</td>\n",
       "      <td>1.673584</td>\n",
       "      <td>no</td>\n",
       "      <td>Public_Transportation</td>\n",
       "      <td>Insufficient_Weight</td>\n",
       "    </tr>\n",
       "    <tr>\n",
       "      <th>3</th>\n",
       "      <td>Female</td>\n",
       "      <td>20.952737</td>\n",
       "      <td>1.710730</td>\n",
       "      <td>131.274851</td>\n",
       "      <td>yes</td>\n",
       "      <td>yes</td>\n",
       "      <td>3.000000</td>\n",
       "      <td>3.000000</td>\n",
       "      <td>Sometimes</td>\n",
       "      <td>no</td>\n",
       "      <td>1.674061</td>\n",
       "      <td>no</td>\n",
       "      <td>1.467863</td>\n",
       "      <td>0.780199</td>\n",
       "      <td>Sometimes</td>\n",
       "      <td>Public_Transportation</td>\n",
       "      <td>Obesity_Type_III</td>\n",
       "    </tr>\n",
       "    <tr>\n",
       "      <th>4</th>\n",
       "      <td>Male</td>\n",
       "      <td>31.641081</td>\n",
       "      <td>1.914186</td>\n",
       "      <td>93.798055</td>\n",
       "      <td>yes</td>\n",
       "      <td>yes</td>\n",
       "      <td>2.679664</td>\n",
       "      <td>1.971472</td>\n",
       "      <td>Sometimes</td>\n",
       "      <td>no</td>\n",
       "      <td>1.979848</td>\n",
       "      <td>no</td>\n",
       "      <td>1.967973</td>\n",
       "      <td>0.931721</td>\n",
       "      <td>Sometimes</td>\n",
       "      <td>Public_Transportation</td>\n",
       "      <td>Overweight_Level_II</td>\n",
       "    </tr>\n",
       "  </tbody>\n",
       "</table>\n",
       "</div>"
      ],
      "text/plain": [
       "    Gender        Age    Height      Weight family_history_with_overweight  \\\n",
       "id                                                                           \n",
       "0     Male  24.443011  1.699998   81.669950                            yes   \n",
       "1   Female  18.000000  1.560000   57.000000                            yes   \n",
       "2   Female  18.000000  1.711460   50.165754                            yes   \n",
       "3   Female  20.952737  1.710730  131.274851                            yes   \n",
       "4     Male  31.641081  1.914186   93.798055                            yes   \n",
       "\n",
       "   FAVC      FCVC       NCP        CAEC SMOKE      CH2O SCC       FAF  \\\n",
       "id                                                                      \n",
       "0   yes  2.000000  2.983297   Sometimes    no  2.763573  no  0.000000   \n",
       "1   yes  2.000000  3.000000  Frequently    no  2.000000  no  1.000000   \n",
       "2   yes  1.880534  1.411685   Sometimes    no  1.910378  no  0.866045   \n",
       "3   yes  3.000000  3.000000   Sometimes    no  1.674061  no  1.467863   \n",
       "4   yes  2.679664  1.971472   Sometimes    no  1.979848  no  1.967973   \n",
       "\n",
       "         TUE       CALC                 MTRANS           NObeyesdad  \n",
       "id                                                                   \n",
       "0   0.976473  Sometimes  Public_Transportation  Overweight_Level_II  \n",
       "1   1.000000         no             Automobile        Normal_Weight  \n",
       "2   1.673584         no  Public_Transportation  Insufficient_Weight  \n",
       "3   0.780199  Sometimes  Public_Transportation     Obesity_Type_III  \n",
       "4   0.931721  Sometimes  Public_Transportation  Overweight_Level_II  "
      ]
     },
     "execution_count": 2,
     "metadata": {},
     "output_type": "execute_result"
    }
   ],
   "source": [
    "data = pd.read_csv('../data/train.csv', index_col='id')\n",
    "\n",
    "data.head()"
   ]
  },
  {
   "cell_type": "markdown",
   "id": "f9fbdf48-04e8-4d09-8bfe-c7e2a7468572",
   "metadata": {},
   "source": [
    "На основании проведенного EDA, мы знаем, что наиболее информативными являются признаки веса и роста, кроме того они коррелируют, поэтому, сделаем из них одну - ИМТ.\n",
    "Остальные колонки оставим без изменений и построим модель классификации на catboost, это будет нашей отправной точкой.\n",
    "Градиентный бустинг выбран в связи с наличием выбросов в данных, а также в связи с тем, что по некоторым категориальным признакам часть данных хорошо разделима (смотри EDA)."
   ]
  },
  {
   "cell_type": "code",
   "execution_count": 3,
   "id": "50f6d982-aebd-45f0-a5de-ed093aa785e8",
   "metadata": {
    "tags": []
   },
   "outputs": [],
   "source": [
    "data['BMI'] = make_BMI(data)\n",
    "data = data.drop(['Height', 'Weight'], axis=1)\n",
    "data = pd.get_dummies(data, columns=['Gender', \n",
    "                                     'family_history_with_overweight',\n",
    "                                     'FAVC',\n",
    "                                     'SMOKE',\n",
    "                                     'SCC'], drop_first=True)\n",
    "cat = ['CAEC', 'CALC', 'MTRANS']"
   ]
  },
  {
   "cell_type": "code",
   "execution_count": 4,
   "id": "59587bd9-1d19-457c-a806-5874fe55bac5",
   "metadata": {},
   "outputs": [],
   "source": [
    "X_train, X_valid, y_train, y_valid = train_test_split(data.drop(['NObeyesdad'], axis=1),\n",
    "                                                      data['NObeyesdad'],\n",
    "                                                      test_size=0.20,\n",
    "                                                      random_state=3,\n",
    "                                                      shuffle=True)"
   ]
  },
  {
   "cell_type": "code",
   "execution_count": 5,
   "id": "06c859d7-69cc-4c14-a56c-0c739569d315",
   "metadata": {},
   "outputs": [
    {
     "data": {
      "application/vnd.jupyter.widget-view+json": {
       "model_id": "e81b52e9ba3b48d484babc44436d0bb0",
       "version_major": 2,
       "version_minor": 0
      },
      "text/plain": [
       "MetricVisualizer(layout=Layout(align_self='stretch', height='500px'))"
      ]
     },
     "metadata": {},
     "output_type": "display_data"
    },
    {
     "data": {
      "text/plain": [
       "<catboost.core.CatBoostClassifier at 0x240df16ad70>"
      ]
     },
     "execution_count": 5,
     "metadata": {},
     "output_type": "execute_result"
    }
   ],
   "source": [
    "clf = CatBoostClassifier()\n",
    "clf.fit(X_train, y_train, eval_set=(X_valid, y_valid), cat_features=cat, plot=True, silent=True)"
   ]
  },
  {
   "cell_type": "markdown",
   "id": "ea853597-ba96-44e0-878d-0f38d7dbe724",
   "metadata": {},
   "source": [
    "#### График обучения\n",
    "![График обучения](https://s999sas.storage.yandex.net/rdisk/98c98963b4eddfc323923cb03a3e2a3c81d4e859aa1d84ac13051c38d435632c/65e4be7e/LyPBJX7DrmJ2vc9Oq453nfRYDnCUQzot78T_e-65evW9yZtpLl0NTCkdaiFdQRN2En4-ctQf3e4KKWwBCDviQw==?uid=285904750&filename=base.png&disposition=inline&hash=&limit=0&content_type=image%2Fpng&owner_uid=285904750&fsize=21473&hid=fdf8bbe43ea6956d6f99c4325fd6d5c1&media_type=image&tknv=v2&etag=be511c7bfa2a6d2e1c2dd13bc495a797&rtoken=aSkwurm5cXGX&force_default=yes&ycrid=na-0dce424b2410b0caf1e0f797fec9fa47-downloader10f&ts=612c59bae1b80&s=41137ee84c1933d7c231e23a984cef6213e90cdefa8971d6abe16dc453805f32&pb=U2FsdGVkX1_ScQlSIpwbFElrqxomlJWIvSTw0GMRuVmCs2ZC3J8qVnEhrGPlzXNqFw4eTO6LJzgzrRAadYK1uTdwYkbXtdi-WiBgT-O8QkU)"
   ]
  },
  {
   "cell_type": "code",
   "execution_count": 6,
   "id": "bf241438-ecf0-4a33-8648-0ff2443b11da",
   "metadata": {},
   "outputs": [
    {
     "data": {
      "text/plain": [
       "0.9083463808262074"
      ]
     },
     "execution_count": 6,
     "metadata": {},
     "output_type": "execute_result"
    }
   ],
   "source": [
    "clf.score(X_train, y_train)"
   ]
  },
  {
   "cell_type": "code",
   "execution_count": 7,
   "id": "79552597-5580-49ea-9fa9-67c6ff58632d",
   "metadata": {},
   "outputs": [
    {
     "data": {
      "text/plain": [
       "0.8853564547206165"
      ]
     },
     "execution_count": 7,
     "metadata": {},
     "output_type": "execute_result"
    }
   ],
   "source": [
    "clf.score(X_valid, y_valid)"
   ]
  },
  {
   "cell_type": "markdown",
   "id": "baea0203-7f42-4815-bd8a-87eca763b07c",
   "metadata": {},
   "source": [
    "0.884 - базовая accuracy от которого будем отталкиваться\n",
    "\n",
    "*Так как я изначально не зафиксировал random_state у классификатора, при повторном прогоне точность оказалась выше*"
   ]
  },
  {
   "cell_type": "markdown",
   "id": "e1917e61-016b-42c1-a3cf-a72df95b9176",
   "metadata": {},
   "source": [
    "Подготавливаю данные для отправки, чтобы оценить accuracy базовой модели на public."
   ]
  },
  {
   "cell_type": "code",
   "execution_count": 8,
   "id": "65821f4d-fd04-4f71-84c0-5112d64a0a7a",
   "metadata": {},
   "outputs": [
    {
     "data": {
      "text/plain": [
       "array([['Obesity_Type_II'],\n",
       "       ['Overweight_Level_I'],\n",
       "       ['Obesity_Type_III'],\n",
       "       ...,\n",
       "       ['Insufficient_Weight'],\n",
       "       ['Normal_Weight'],\n",
       "       ['Obesity_Type_II']], dtype=object)"
      ]
     },
     "execution_count": 8,
     "metadata": {},
     "output_type": "execute_result"
    }
   ],
   "source": [
    "test = pd.read_csv('../data/test.csv', index_col='id')\n",
    "\n",
    "test['BMI'] = make_BMI(test)\n",
    "test = test.drop(['Height', 'Weight'], axis=1)\n",
    "test = pd.get_dummies(test, columns=['Gender', \n",
    "                                     'family_history_with_overweight',\n",
    "                                     'FAVC',\n",
    "                                     'SMOKE',\n",
    "                                     'SCC'], drop_first=True)\n",
    "pred = clf.predict(test)\n",
    "pred"
   ]
  },
  {
   "cell_type": "code",
   "execution_count": 10,
   "id": "a3761f45-41af-41a0-973b-5cb88f390ef2",
   "metadata": {},
   "outputs": [],
   "source": [
    "pd.Series(pred[:, 0], index=test.index).to_csv('../preds/pred0.csv')"
   ]
  },
  {
   "cell_type": "markdown",
   "id": "7bb7e69a-c7aa-40d1-9e94-4a12e110aea9",
   "metadata": {},
   "source": [
    "Piblic score: 0.88186"
   ]
  }
 ],
 "metadata": {
  "kernelspec": {
   "display_name": "Python 3 (ipykernel)",
   "language": "python",
   "name": "python3"
  },
  "language_info": {
   "codemirror_mode": {
    "name": "ipython",
    "version": 3
   },
   "file_extension": ".py",
   "mimetype": "text/x-python",
   "name": "python",
   "nbconvert_exporter": "python",
   "pygments_lexer": "ipython3",
   "version": "3.10.9"
  }
 },
 "nbformat": 4,
 "nbformat_minor": 5
}
